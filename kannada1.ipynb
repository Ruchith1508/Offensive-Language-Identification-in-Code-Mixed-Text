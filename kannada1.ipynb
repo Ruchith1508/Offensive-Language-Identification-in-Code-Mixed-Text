{
  "cells": [
    {
      "cell_type": "code",
      "execution_count": null,
      "metadata": {
        "colab": {
          "base_uri": "https://localhost:8080/"
        },
        "id": "nkCHBCKh2cco",
        "outputId": "f0af5c1e-f315-4ec2-82a7-0018b807ff2b"
      },
      "outputs": [
        {
          "name": "stdout",
          "output_type": "stream",
          "text": [
            "Mounted at /content/drive\n"
          ]
        }
      ],
      "source": [
        "from google.colab import drive\n",
        "drive.mount('/content/drive')"
      ]
    },
    {
      "cell_type": "code",
      "execution_count": null,
      "metadata": {
        "id": "bu2ZOlJEHF0n"
      },
      "outputs": [],
      "source": [
        "#to skip the display of warnings\n",
        "import warnings\n",
        "warnings.filterwarnings(\"ignore\")"
      ]
    },
    {
      "cell_type": "code",
      "execution_count": null,
      "metadata": {
        "colab": {
          "base_uri": "https://localhost:8080/"
        },
        "id": "zjfpn11NIOvv",
        "outputId": "126c39b7-5419-4b18-eca2-7d028571e307"
      },
      "outputs": [
        {
          "name": "stdout",
          "output_type": "stream",
          "text": [
            "Collecting transformers\n",
            "  Downloading transformers-4.34.1-py3-none-any.whl (7.7 MB)\n",
            "\u001b[2K     \u001b[90m━━━━━━━━━━━━━━━━━━━━━━━━━━━━━━━━━━━━━━━━\u001b[0m \u001b[32m7.7/7.7 MB\u001b[0m \u001b[31m53.0 MB/s\u001b[0m eta \u001b[36m0:00:00\u001b[0m\n",
            "\u001b[?25hRequirement already satisfied: filelock in /usr/local/lib/python3.10/dist-packages (from transformers) (3.12.4)\n",
            "Collecting huggingface-hub<1.0,>=0.16.4 (from transformers)\n",
            "  Downloading huggingface_hub-0.18.0-py3-none-any.whl (301 kB)\n",
            "\u001b[2K     \u001b[90m━━━━━━━━━━━━━━━━━━━━━━━━━━━━━━━━━━━━━━━━\u001b[0m \u001b[32m302.0/302.0 kB\u001b[0m \u001b[31m33.5 MB/s\u001b[0m eta \u001b[36m0:00:00\u001b[0m\n",
            "\u001b[?25hRequirement already satisfied: numpy>=1.17 in /usr/local/lib/python3.10/dist-packages (from transformers) (1.23.5)\n",
            "Requirement already satisfied: packaging>=20.0 in /usr/local/lib/python3.10/dist-packages (from transformers) (23.2)\n",
            "Requirement already satisfied: pyyaml>=5.1 in /usr/local/lib/python3.10/dist-packages (from transformers) (6.0.1)\n",
            "Requirement already satisfied: regex!=2019.12.17 in /usr/local/lib/python3.10/dist-packages (from transformers) (2023.6.3)\n",
            "Requirement already satisfied: requests in /usr/local/lib/python3.10/dist-packages (from transformers) (2.31.0)\n",
            "Collecting tokenizers<0.15,>=0.14 (from transformers)\n",
            "  Downloading tokenizers-0.14.1-cp310-cp310-manylinux_2_17_x86_64.manylinux2014_x86_64.whl (3.8 MB)\n",
            "\u001b[2K     \u001b[90m━━━━━━━━━━━━━━━━━━━━━━━━━━━━━━━━━━━━━━━━\u001b[0m \u001b[32m3.8/3.8 MB\u001b[0m \u001b[31m105.5 MB/s\u001b[0m eta \u001b[36m0:00:00\u001b[0m\n",
            "\u001b[?25hCollecting safetensors>=0.3.1 (from transformers)\n",
            "  Downloading safetensors-0.4.0-cp310-cp310-manylinux_2_17_x86_64.manylinux2014_x86_64.whl (1.3 MB)\n",
            "\u001b[2K     \u001b[90m━━━━━━━━━━━━━━━━━━━━━━━━━━━━━━━━━━━━━━━━\u001b[0m \u001b[32m1.3/1.3 MB\u001b[0m \u001b[31m86.3 MB/s\u001b[0m eta \u001b[36m0:00:00\u001b[0m\n",
            "\u001b[?25hRequirement already satisfied: tqdm>=4.27 in /usr/local/lib/python3.10/dist-packages (from transformers) (4.66.1)\n",
            "Requirement already satisfied: fsspec>=2023.5.0 in /usr/local/lib/python3.10/dist-packages (from huggingface-hub<1.0,>=0.16.4->transformers) (2023.6.0)\n",
            "Requirement already satisfied: typing-extensions>=3.7.4.3 in /usr/local/lib/python3.10/dist-packages (from huggingface-hub<1.0,>=0.16.4->transformers) (4.5.0)\n",
            "Collecting huggingface-hub<1.0,>=0.16.4 (from transformers)\n",
            "  Downloading huggingface_hub-0.17.3-py3-none-any.whl (295 kB)\n",
            "\u001b[2K     \u001b[90m━━━━━━━━━━━━━━━━━━━━━━━━━━━━━━━━━━━━━━━━\u001b[0m \u001b[32m295.0/295.0 kB\u001b[0m \u001b[31m34.3 MB/s\u001b[0m eta \u001b[36m0:00:00\u001b[0m\n",
            "\u001b[?25hRequirement already satisfied: charset-normalizer<4,>=2 in /usr/local/lib/python3.10/dist-packages (from requests->transformers) (3.3.1)\n",
            "Requirement already satisfied: idna<4,>=2.5 in /usr/local/lib/python3.10/dist-packages (from requests->transformers) (3.4)\n",
            "Requirement already satisfied: urllib3<3,>=1.21.1 in /usr/local/lib/python3.10/dist-packages (from requests->transformers) (2.0.7)\n",
            "Requirement already satisfied: certifi>=2017.4.17 in /usr/local/lib/python3.10/dist-packages (from requests->transformers) (2023.7.22)\n",
            "Installing collected packages: safetensors, huggingface-hub, tokenizers, transformers\n",
            "Successfully installed huggingface-hub-0.17.3 safetensors-0.4.0 tokenizers-0.14.1 transformers-4.34.1\n"
          ]
        }
      ],
      "source": [
        "pip install transformers"
      ]
    },
    {
      "cell_type": "code",
      "execution_count": null,
      "metadata": {
        "colab": {
          "base_uri": "https://localhost:8080/"
        },
        "id": "SV7DUHSmI44g",
        "outputId": "2ff2dbc7-6bb3-45b1-cdf5-17a155a2d620"
      },
      "outputs": [
        {
          "name": "stdout",
          "output_type": "stream",
          "text": [
            "Collecting sentencepiece\n",
            "  Downloading sentencepiece-0.1.99-cp310-cp310-manylinux_2_17_x86_64.manylinux2014_x86_64.whl (1.3 MB)\n",
            "\u001b[?25l     \u001b[90m━━━━━━━━━━━━━━━━━━━━━━━━━━━━━━━━━━━━━━━━\u001b[0m \u001b[32m0.0/1.3 MB\u001b[0m \u001b[31m?\u001b[0m eta \u001b[36m-:--:--\u001b[0m\r\u001b[2K     \u001b[91m━━━\u001b[0m\u001b[91m╸\u001b[0m\u001b[90m━━━━━━━━━━━━━━━━━━━━━━━━━━━━━━━━━━━━\u001b[0m \u001b[32m0.1/1.3 MB\u001b[0m \u001b[31m3.4 MB/s\u001b[0m eta \u001b[36m0:00:01\u001b[0m\r\u001b[2K     \u001b[91m━━━━━━━━━━━━━━━━━━━━━━━━━━━━━━━\u001b[0m\u001b[90m╺\u001b[0m\u001b[90m━━━━━━━━\u001b[0m \u001b[32m1.0/1.3 MB\u001b[0m \u001b[31m14.7 MB/s\u001b[0m eta \u001b[36m0:00:01\u001b[0m\r\u001b[2K     \u001b[90m━━━━━━━━━━━━━━━━━━━━━━━━━━━━━━━━━━━━━━━━\u001b[0m \u001b[32m1.3/1.3 MB\u001b[0m \u001b[31m15.2 MB/s\u001b[0m eta \u001b[36m0:00:00\u001b[0m\n",
            "\u001b[?25hInstalling collected packages: sentencepiece\n",
            "Successfully installed sentencepiece-0.1.99\n"
          ]
        }
      ],
      "source": [
        "pip install sentencepiece"
      ]
    },
    {
      "cell_type": "code",
      "execution_count": null,
      "metadata": {
        "id": "faHeZsUuHjTP"
      },
      "outputs": [],
      "source": [
        "import torch,math,re,os,itertools,random\n",
        "from torch.nn.utils.rnn import pack_padded_sequence\n",
        "from sklearn.model_selection import train_test_split\n",
        "import torch.nn.functional as F\n",
        "from transformers import AutoTokenizer, AutoModel, AdamW\n",
        "import torch.nn as nn\n",
        "import pandas as pd\n",
        "import numpy as np\n",
        "import random as rn\n",
        "import matplotlib.pyplot as plt\n",
        "\n",
        "def seed_torch(seed=1029):\n",
        "    random.seed(seed)\n",
        "    os.environ['PYTHONHASHSEED'] = str(seed)\n",
        "    np.random.seed(seed)\n",
        "    torch.manual_seed(seed)\n",
        "    torch.cuda.manual_seed(seed)\n",
        "    torch.cuda.manual_seed_all(seed) # if you are using multi-GPU.\n",
        "    torch.backends.cudnn.benchmark = False\n",
        "    torch.backends.cudnn.deterministic = True\n",
        "\n",
        "    return seed"
      ]
    },
    {
      "cell_type": "code",
      "execution_count": null,
      "metadata": {
        "id": "P7-_-D2z1gya"
      },
      "outputs": [],
      "source": [
        "#generate contractions_dict\n",
        "filepath ='/content/drive/My Drive/smm1/english_contratictions.txt'\n",
        "f= open(filepath, 'r')\n",
        "contractions_dict ={}\n",
        "for line in f:\n",
        "  #print(line)\n",
        "    try:\n",
        "        x, y = line.strip('\\n').split('-')\n",
        "        contractions_dict[x.strip()]= y.strip()\n",
        "        contractions_dict[x.replace(\"'\",\"\").strip()] = y.strip()\n",
        "        contractions_dict[x.strip().capitalize()] = y.strip().capitalize()\n",
        "        contractions_dict[x.replace(\"'\",\"\").strip().capitalize()] = y.strip().capitalize()\n",
        "\n",
        "    except:\n",
        "        pass\n",
        "\n",
        "#generate interjections_dict\n",
        "filepath ='/content/drive/My Drive/smm1/english_interjections.txt'\n",
        "f= open(filepath, 'r')\n",
        "interjections_dict ={}\n",
        "for line in f:\n",
        "  #print(line)\n",
        "    try:\n",
        "        x, y = line.strip('\\n').split('-')\n",
        "        interjections_dict[x.strip()]= y.strip()\n",
        "        interjections_dict[x.replace(\"'\",\"\").strip()] = y.strip()\n",
        "    except:\n",
        "        pass\n",
        "\n",
        "#generate slangs_dict\n",
        "filepath ='/content/drive/My Drive/smm1/twitter_slang.txt'\n",
        "f= open(filepath, 'r')\n",
        "slangs_dict ={}\n",
        "for line in f:\n",
        "  #print(line)\n",
        "    try:\n",
        "        slang = line.split('\\t\\t\\t\\t\\t')\n",
        "        x = slang[0]\n",
        "        y = slang[1].strip('\\n')\n",
        "        slangs_dict[x.strip()]= y.strip()\n",
        "        slangs_dict[x.strip()] = y.strip()\n",
        "    except:\n",
        "        pass"
      ]
    },
    {
      "cell_type": "code",
      "execution_count": null,
      "metadata": {
        "id": "nRMHrGZt1g8J"
      },
      "outputs": [],
      "source": [
        "date = \"(?:(?:(?:(?:(?<!:)\\\\b\\\\'?\\\\d{1,4},? ?)?\\\\b(?:[Jj]an(?:uary)?|[Ff]eb(?:ruary)?|[Mm]ar(?:ch)?|[Aa]pr(?:il)?|May|[Jj]un(?:e)?|[Jj]ul(?:y)?|[Aa]ug(?:ust)?|[Ss]ept?(?:ember)?|[Oo]ct(?:ober)?|[Nn]ov(?:ember)?|[Dd]ec(?:ember)?)\\\\b(?:(?:,? ?\\\\'?)?\\\\d{1,4}(?:st|nd|rd|n?th)?\\\\b(?:[,\\\\/]? ?\\\\'?\\\\d{2,4}[a-zA-Z]*)?(?: ?- ?\\\\d{2,4}[a-zA-Z]*)?(?!:\\\\d{1,4})\\\\b))|(?:(?:(?<!:)\\\\b\\\\'?\\\\d{1,4},? ?)\\\\b(?:[Jj]an(?:uary)?|[Ff]eb(?:ruary)?|[Mm]ar(?:ch)?|[Aa]pr(?:il)?|May|[Jj]un(?:e)?|[Jj]ul(?:y)?|[Aa]ug(?:ust)?|[Ss]ept?(?:ember)?|[Oo]ct(?:ober)?|[Nn]ov(?:ember)?|[Dd]ec(?:ember)?)\\\\b(?:(?:,? ?\\\\'?)?\\\\d{1,4}(?:st|nd|rd|n?th)?\\\\b(?:[,\\\\/]? ?\\\\'?\\\\d{2,4}[a-zA-Z]*)?(?: ?- ?\\\\d{2,4}[a-zA-Z]*)?(?!:\\\\d{1,4})\\\\b)?))|(?:\\\\b(?<!\\\\d\\\\.)(?:(?:(?:[0123]?[0-9][\\\\.\\\\-\\\\/])?[0123]?[0-9][\\\\.\\\\-\\\\/][12][0-9]{3})|(?:[0123]?[0-9][\\\\.\\\\-\\\\/][0123]?[0-9][\\\\.\\\\-\\\\/][12]?[0-9]{2,3}))(?!\\\\.\\\\d)\\\\b))\"\n",
        "email = \"(?:^|(?<=[^\\\\w@.)]))(?:[\\\\w+-](?:\\\\.(?!\\\\.))?)*?[\\\\w+-]@(?:\\\\w-?)*?\\\\w+(?:\\\\.(?:[a-z]{2,})){1,3}(?:$|(?=\\\\b))\"\n",
        "percent = \"\\\\b\\\\d+(?:[\\\\.,']\\\\d+)?\\\\b%\"\n",
        "phone = \"(?<![0-9])(?:\\\\+\\\\d{1,2}\\\\s)?\\\\(?\\\\d{3}\\\\)?[\\\\s.-]?\\\\d{3}[\\\\s.-]?\\\\d{4}(?![0-9])\"\n",
        "time = \"(?:(?:\\\\d+)?\\\\.?\\\\d+(?:AM|PM|am|pm|a\\\\.m\\\\.|p\\\\.m\\\\.))|(?:(?:[0-2]?[0-9]|[2][0-3]):(?:[0-5][0-9])(?::(?:[0-5][0-9]))?(?: ?(?:AM|PM|am|pm|a\\\\.m\\\\.|p\\\\.m\\\\.))?)\"\n",
        "money = \"(?:[$\\u20ac\\u00a3\\u00a2]\\\\d+(?:[\\\\.,']\\\\d+)?(?:[MmKkBb](?:n|(?:il(?:lion)?))?)?)|(?:\\\\d+(?:[\\\\.,']\\\\d+)?[$\\u20ac\\u00a3\\u00a2])\"\n",
        "\n",
        "url = r\"(https?://)?[A-Za-z0-9-]+.[A-Za-z0-9-]+/[A-Za-z0-9-]+|https?://[A-Za-z0-9-]+.[A-Za-z0-9-]+|(https?://)?www(.[A-Za-z0-9-]+)+(/S+)?\"\n",
        "user = r'@\\w+'\n",
        "html_char = r'&(?:\\s)?[a-z]{2,4}|&#[0-9]{2,3}'\n",
        "rt_tag = r'\\brt\\b'\n",
        "elipsis = r'\\u2026'\n",
        "num=r'\\s\\d+'\n",
        "\n",
        "\n",
        "regex_dict ={date:r'date',email:r'email', percent:r'percent',phone:r'phone',time:r'time',money:r'money',url:r'<url>',user:r'<mention>',\n",
        "             html_char:r' ',rt_tag:r' ', elipsis:r' ',num:'<number>'\n",
        "              }\n",
        "\n",
        "char_smiley_dict = {\n",
        "    r':*': '<kiss>',\n",
        "    r':-*': '<kiss>',\n",
        "    r':x': '<kiss>',\n",
        "    r':-)': '<happy>',\n",
        "    r':-))': '<happy>',\n",
        "    r':-)))': '<happy>',\n",
        "    r':-))))': '<happy>',\n",
        "    r':-)))))': '<happy>',\n",
        "    r':-))))))': '<happy>',\n",
        "    r':)': '<happy>',\n",
        "    r':))': '<happy>',\n",
        "    r':)))': '<happy>',\n",
        "    r':))))': '<happy>',\n",
        "    r':)))))': '<happy>',\n",
        "    r':))))))': '<happy>',\n",
        "    r':)))))))': '<happy>',\n",
        "    r':o)': '<happy>',\n",
        "    r':]': '<happy>',\n",
        "    r':3': '<happy>',\n",
        "    r':c)': '<happy>',\n",
        "    r':>': '<happy>',\n",
        "    r'=]': '<happy>',\n",
        "    r'8)': '<happy>',\n",
        "    r'=)': '<happy>',\n",
        "    r':}': '<happy>',\n",
        "    r':^)': '<happy>',\n",
        "    r'|;-)': '<happy>',\n",
        "    r\":'-)\": '<happy>',\n",
        "    r\":')\": '<happy>',\n",
        "    r'\\o/': '<happy>',\n",
        "    r'*\\\\0/*': '<happy>',\n",
        "    r':-D': '<laugh>',\n",
        "    r':D': '<laugh>',\n",
        "    r'8-D': '<laugh>',\n",
        "    r'8D': '<laugh>',\n",
        "    r'x-D': '<laugh>',\n",
        "    r'xD': '<laugh>',\n",
        "    r'X-D': '<laugh>',\n",
        "    r'XD': '<laugh>',\n",
        "    r'=-D': '<laugh>',\n",
        "    r'=D': '<laugh>',\n",
        "    r'=-3': '<laugh>',\n",
        "    r'=3': '<laugh>',\n",
        "    r'B^D': '<laugh>',\n",
        "    r'>:[': '<sad>',\n",
        "    r':-(': '<sad>',\n",
        "    r':-((': '<sad>',\n",
        "    r':-(((': '<sad>',\n",
        "    r':-((((': '<sad>',\n",
        "    r':-(((((': '<sad>',\n",
        "    r':-((((((': '<sad>',\n",
        "    r':-(((((((': '<sad>',\n",
        "    r':(': '<sad>',\n",
        "    r':((': '<sad>',\n",
        "    r':(((': '<sad>',\n",
        "    r':((((': '<sad>',\n",
        "    r':(((((': '<sad>',\n",
        "    r':((((((': '<sad>',\n",
        "    r':(((((((': '<sad>',\n",
        "    r':((((((((': '<sad>',\n",
        "    r':-c': '<sad>',\n",
        "    r':c': '<sad>',\n",
        "    r':-<': '<sad>',\n",
        "    r':<': '<sad>',\n",
        "    r':-[': '<sad>',\n",
        "    r':[': '<sad>',\n",
        "    r':{': '<sad>',\n",
        "    r':-||': '<sad>',\n",
        "    r':@': '<sad>',\n",
        "    r\":'-(\": '<sad>',\n",
        "    r\":'(\": '<sad>',\n",
        "    r'D:<': '<sad>',\n",
        "    r'D:': '<sad>',\n",
        "    r'D8': '<sad>',\n",
        "    r'D;': '<sad>',\n",
        "    r'D=': '<sad>',\n",
        "    r'DX': '<sad>',\n",
        "    r'v.v': '<sad>',\n",
        "    r\"D-':\": '<sad>',\n",
        "    r'(>_<)': '<sad>',\n",
        "    r':|': '<sad>',\n",
        "    r'>:O': '<surprise>',\n",
        "    r':-O': '<surprise>',\n",
        "    r':-o': '<surprise>',\n",
        "    r':O': '<surprise>',\n",
        "    r'°o°': '<surprise>',\n",
        "    r'o_O': '<surprise>',\n",
        "    r'o_0': '<surprise>',\n",
        "    r'o.O': '<surprise>',\n",
        "    r'o-o': '<surprise>',\n",
        "    r'8-0': '<surprise>',\n",
        "    r'|-O': '<surprise>',\n",
        "    r';-)': '<wink>',\n",
        "    r';)': '<wink>',\n",
        "    r'*-)': '<wink>',\n",
        "    r'*)': '<wink>',\n",
        "    r';-]': '<wink>',\n",
        "    r';]': '<wink>',\n",
        "    r';D': '<wink>',\n",
        "    r';^)': '<wink>',\n",
        "    r':-,': '<wink>',\n",
        "    r'>:P': '<tong>',\n",
        "    r':-P': '<tong>',\n",
        "    r':P': '<tong>',\n",
        "    r'X-P': '<tong>',\n",
        "    r'x-p': '<tong>',\n",
        "    r'xp': '<tong>',\n",
        "    r'XP': '<tong>',\n",
        "    r':-p': '<tong>',\n",
        "    r':p': '<tong>',\n",
        "    r'=p': '<tong>',\n",
        "    r':-Þ': '<tong>',\n",
        "    r':Þ': '<tong>',\n",
        "    r':-b': '<tong>',\n",
        "    r':b': '<tong>',\n",
        "    r':-&': '<tong>',\n",
        "    r'>:\\\\': '<annoyed>',\n",
        "    r'>:/': '<annoyed>',\n",
        "    r':-/': '<annoyed>',\n",
        "    r':-.': '<annoyed>',\n",
        "    r':/': '<annoyed>',\n",
        "    r':\\\\': '<annoyed>',\n",
        "    r'=/': '<annoyed>',\n",
        "    r'=\\\\': '<annoyed>',\n",
        "    r':L': '<annoyed>',\n",
        "    r'=L': '<annoyed>',\n",
        "    r':S': '<annoyed>',\n",
        "    r'>.<': '<annoyed>',\n",
        "    r':-|': '<annoyed>',\n",
        "    r'<:-|': '<annoyed>',\n",
        "    r':-X': '<no asnwer>',\n",
        "    r':X': '<no answer>',\n",
        "    r':-#': '<no answer>',\n",
        "    r':#': '<no answer>',\n",
        "    r'O:-)': '<angel>',\n",
        "    r'0:-3': '<angel>',\n",
        "    r'0:3': '<angel>',\n",
        "    r'0:-)': '<angel>',\n",
        "    r'0:)': '<angel>',\n",
        "    r'0;^)': '<angel>',\n",
        "    r'>:)': '<devil>',\n",
        "    r'>:D': '<devil>',\n",
        "    r'>:-D': '<devil>',\n",
        "    r'>;)': '<devil>',\n",
        "    r'>:-)': '<devil>',\n",
        "    r'}:-)': '<devil>',\n",
        "    r'}:)': '<devil>',\n",
        "    r'3:-)': '<devil>',\n",
        "    r'3:)': '<devil>',\n",
        "    r'o/\\o': '<greet>',\n",
        "    r'^5': '<greet>',\n",
        "    r'>_>^': '<greet>',\n",
        "    r'^<_<': '<greet>',\n",
        "    r'<3': '<heart>'\n",
        "}\n"
      ]
    },
    {
      "cell_type": "code",
      "execution_count": null,
      "metadata": {
        "colab": {
          "base_uri": "https://localhost:8080/"
        },
        "id": "nYWmZQMk1hFW",
        "outputId": "c1298c0a-aa32-474b-df87-3eb5f07a0f74"
      },
      "outputs": [
        {
          "name": "stdout",
          "output_type": "stream",
          "text": [
            "Collecting emoji\n",
            "  Downloading emoji-2.8.0-py2.py3-none-any.whl (358 kB)\n",
            "\u001b[2K     \u001b[90m━━━━━━━━━━━━━━━━━━━━━━━━━━━━━━━━━━━━━━━━\u001b[0m \u001b[32m358.9/358.9 kB\u001b[0m \u001b[31m5.9 MB/s\u001b[0m eta \u001b[36m0:00:00\u001b[0m\n",
            "\u001b[?25hInstalling collected packages: emoji\n",
            "Successfully installed emoji-2.8.0\n"
          ]
        }
      ],
      "source": [
        "pip install emoji"
      ]
    },
    {
      "cell_type": "code",
      "execution_count": null,
      "metadata": {
        "id": "WmRHx8FM1g3-"
      },
      "outputs": [],
      "source": [
        "import re,itertools,emoji\n",
        "from itertools import groupby\n",
        "\n",
        "def regex_map(tweet):\n",
        "    if len(tweet) >= 300:\n",
        "      tweet = ' '.join(tweet.split(' '))[:300]\n",
        "\n",
        "    #normalization\n",
        "    #print('before normalization')\n",
        "    for key,value in regex_dict.items():\n",
        "        tweet = re.sub(key,value,tweet)\n",
        "    #print('after normalization')\n",
        "    #print(tweet)\n",
        "\n",
        "    #reducing repeating characters to just 2 occurrences\n",
        "    tweet=''.join(''.join(s)[:2] for _,s in itertools.groupby(tweet))\n",
        "    #print('after reducing repating characters')\n",
        "    #print(tweet)\n",
        "\n",
        "    #character smiley to text\n",
        "    for k,v in char_smiley_dict.items():\n",
        "        tweet = re.sub(re.escape(k),str(v).lstrip('<').rstrip('>'),tweet)\n",
        "    #for k,v in mal_dict.items():\n",
        "    #    tweet = re.sub(re.escape(k),str(v),tweet)\n",
        "        #print(tweet)\n",
        "    #print(tweet)\n",
        "\n",
        "    #graphic smiley to text\n",
        "    pattern=r\"[^\\x00-\\x7f]+\"\n",
        "    emj1 = re.findall(pattern,tweet)\n",
        "    emj2 = [\" \".join(e) for e in emj1]\n",
        "    emj_dict = dict(zip(emj1, emj2))\n",
        "    for k,v in emj_dict.items():\n",
        "        tweet = re.sub(k,v,tweet)\n",
        "    unique_words = [i[0] for i in groupby(tweet.split())]\n",
        "    tweet = ' '.join(unique_words)\n",
        "    tweet = emoji.demojize(tweet)\n",
        "    #print('after graphic smiley')\n",
        "    #print(tweet)\n",
        "\n",
        "\n",
        "    #slang words -> expanded words\n",
        "    for k,v in interjections_dict.items():\n",
        "        tweet = re.sub(r'\\b'+re.escape(k)+r'\\b',v,tweet)\n",
        "    #print('after slang words')\n",
        "    #print(tweet)\n",
        "\n",
        "    #interjections -> expanded words\n",
        "    for k,v in interjections_dict.items():\n",
        "        tweet = re.sub(r'\\b'+re.escape(k)+r'\\b',v,tweet)\n",
        "    #print('after interjections words')\n",
        "    #print(tweet)\n",
        "\n",
        "    #contractions -> expanded words\n",
        "    for k,v in contractions_dict.items():\n",
        "        tweet = re.sub(r'\\b'+re.escape(k)+r'\\b',v,tweet)\n",
        "    #print('after contractions words')\n",
        "    #print(tweet)\n",
        "\n",
        "\n",
        "    #remove unncessary special characters\n",
        "    special_chars = r'[!\"$%&()#*+,-./:;<=>?@\\[\\]^_`{|}~]'\n",
        "    tweet = re.sub(special_chars, \" \",tweet)\n",
        "    #print('after special characters')\n",
        "    #print(tweet)\n",
        "\n",
        "    #remove non-ascii characters\n",
        "    pattern=r\"[^\\x00-\\x7f]+\"\n",
        "    #tweet = re.sub(pattern,\" \",tweet)\n",
        "    #print('after non-asicii characters')\n",
        "    #print(tweet)\n",
        "    tweet = ' '.join(tweet.split())\n",
        "\n",
        "    return tweet\n"
      ]
    },
    {
      "cell_type": "code",
      "execution_count": null,
      "metadata": {
        "id": "g_kRTa_JHlna"
      },
      "outputs": [],
      "source": [
        "import tqdm\n",
        "def tweets_preprocess(filepath):\n",
        "    #df = pd.read_csv(filepath,sep= \"\\t\",  usecols=['id','text','category'],encoding='utf-8')\n",
        "    #df.columns =['id','tweet','label']\n",
        "    df = pd.read_csv(filepath,sep= \"\\t\",  usecols=['text','category'],encoding='utf-8')\n",
        "    df.columns =['tweet','label']\n",
        "  #for binary classification, label value should be float in pytorch\n",
        "    df['label'] = df['label'].str.rstrip()\n",
        "    df['label'] = df['label'].str.replace(\" \", \"_\")\n",
        "    #df['label'] = df['label'].replace({'Positive': '0', 'Negative': '1', 'not-Kannada': '2', 'unknown_state': '3','Mixed_feelings': '4'})\n",
        "\n",
        "    df['tweet']=df['tweet'].map(regex_map)\n",
        "    #df = df[df['tweet']!='']\n",
        "\n",
        "    #df['tweet'] = \"[CLS] \"+df.tweet +\" [SEP]\"\n",
        "    df['tweet'] = \"<s> \"+df.tweet +\" </s>\"\n",
        "    return df"
      ]
    },
    {
      "cell_type": "code",
      "execution_count": null,
      "metadata": {
        "id": "mIZhjsdIFfW_"
      },
      "outputs": [],
      "source": [
        "df_train = tweets_preprocess('/content/drive/MyDrive/codemix2021/kannada_offensive_train.csv')\n",
        "df_valid = tweets_preprocess('/content/drive/MyDrive/codemix2021/kannada_offensive_dev.csv')"
      ]
    },
    {
      "cell_type": "code",
      "execution_count": null,
      "metadata": {
        "id": "ewRvXx434hKo"
      },
      "outputs": [],
      "source": [
        "df_train['label'] = df_train['label'].replace({'Not_offensive': '0', 'not-Kannada': '1', 'Offensive_Targeted_Insult_Individual': '2','Offensive_Targeted_Insult_Group': '3','Offensive_Untargetede':'4','Offensive_Targeted_Insult_Other':'5'})\n",
        "df_valid['label'] = df_valid['label'].replace({'Not_offensive': '0', 'not-Kannada': '1', 'Offensive_Targeted_Insult_Individual': '2','Offensive_Targeted_Insult_Group': '3','Offensive_Untargetede':'4','Offensive_Targeted_Insult_Other':'5'})\n",
        "df_train['label']=df_train['label'].astype('long')\n",
        "df_valid['label']=df_valid['label'].astype('long')"
      ]
    },
    {
      "cell_type": "code",
      "execution_count": null,
      "metadata": {
        "colab": {
          "base_uri": "https://localhost:8080/"
        },
        "id": "O-eVghfOvrXF",
        "outputId": "ff0ec3b6-de2d-4256-f51d-6a1c9691147f"
      },
      "outputs": [
        {
          "data": {
            "text/plain": [
              "0    3544\n",
              "1    1522\n",
              "2     487\n",
              "3     329\n",
              "4     212\n",
              "5     123\n",
              "Name: label, dtype: int64"
            ]
          },
          "execution_count": 13,
          "metadata": {},
          "output_type": "execute_result"
        }
      ],
      "source": [
        "df_train['label'].value_counts()"
      ]
    },
    {
      "cell_type": "code",
      "execution_count": null,
      "metadata": {
        "colab": {
          "base_uri": "https://localhost:8080/"
        },
        "id": "D7ssWzHevsrb",
        "outputId": "54b52579-8118-447a-bb47-6d7ec01ff00a"
      },
      "outputs": [
        {
          "data": {
            "text/plain": [
              "0    426\n",
              "1    191\n",
              "2     66\n",
              "3     45\n",
              "4     33\n",
              "5     16\n",
              "Name: label, dtype: int64"
            ]
          },
          "execution_count": 14,
          "metadata": {},
          "output_type": "execute_result"
        }
      ],
      "source": [
        "df_valid['label'].value_counts()"
      ]
    },
    {
      "cell_type": "code",
      "execution_count": null,
      "metadata": {
        "id": "pLxSTvYV3lXx"
      },
      "outputs": [],
      "source": [
        "#df_train=pd.concat([df_train1,df_train2,df_train3,df_train4])"
      ]
    },
    {
      "cell_type": "code",
      "execution_count": null,
      "metadata": {
        "id": "Nm3mOzy4S_rQ"
      },
      "outputs": [],
      "source": [
        "df_test = pd.read_csv('/content/drive/MyDrive/codemix2021/kannada_offensive_test.csv',sep= \"\\t\",  usecols=['text','category'],encoding='utf-8')\n",
        "df_test.columns =['tweet','label']\n",
        "df_test['tweet']=df_test['tweet'].map(regex_map)\n",
        "#df_test['label'] = df_test['label'].str.replace(\" \", \"_\")\n",
        "df_test['label'] = df_test['label'].replace({'Not_offensive': '0', 'not-Kannada': '1', 'Offensive_Targeted_Insult_Individual': '2','Offensive_Targeted_Insult_Group': '3','Offensive_Untargetede':'4','Offensive_Targeted_Insult_Other':'5'})\n",
        "#df_test['tweet'] = \"[CLS] \"+df_test.tweet +\" [SEP]\"\n",
        "df_test['tweet'] = \"<s> \"+df_test.tweet +\" </s>\""
      ]
    },
    {
      "cell_type": "code",
      "execution_count": null,
      "metadata": {
        "colab": {
          "base_uri": "https://localhost:8080/"
        },
        "id": "ba1CMO4evu_s",
        "outputId": "529fb1bb-3110-459e-c8a6-1cf74241b8eb"
      },
      "outputs": [
        {
          "data": {
            "text/plain": [
              "0    427\n",
              "1    185\n",
              "2     75\n",
              "3     44\n",
              "4     33\n",
              "5     14\n",
              "Name: label, dtype: int64"
            ]
          },
          "execution_count": 17,
          "metadata": {},
          "output_type": "execute_result"
        }
      ],
      "source": [
        "df_test['label'].value_counts()"
      ]
    },
    {
      "cell_type": "markdown",
      "metadata": {
        "id": "eGcwsrxJJtJ_"
      },
      "source": [
        "#### Model"
      ]
    },
    {
      "cell_type": "code",
      "execution_count": null,
      "metadata": {
        "id": "eOE4_6jZJUk3"
      },
      "outputs": [],
      "source": [
        "def batch_iter(data, batch_size, seed,shuffle=False):\n",
        "    \"\"\" Yield batches of sentences and labels reverse sorted by length (largest to smallest).\n",
        "    @param data (dataframe): dataframe with ProcessedText (str) and label (int) columns\n",
        "    @param batch_size (int): batch size\n",
        "    @param shuffle (boolean): whether to randomly shuffle the dataset\n",
        "    \"\"\"\n",
        "    batch_num = math.ceil(data.shape[0] / batch_size)\n",
        "    index_array = list(range(data.shape[0]))\n",
        "\n",
        "    if shuffle:\n",
        "        data = data.sample(frac=1,random_state=seed)   #suffles the entire dataframe\n",
        "\n",
        "    for i in range(batch_num):\n",
        "        indices = index_array[i * batch_size: (i + 1) * batch_size]\n",
        "\n",
        "        examples = data.iloc[indices].sort_values(by='tweet', ascending=False)\n",
        "        sents = list(examples.tweet)\n",
        "        labels = list(examples.label)\n",
        "        yield sents, labels\n",
        "\n",
        "def pad_sents(sents, pad_token):\n",
        "    \"\"\" Pad list of sentences according to the longest sentence in the batch.\n",
        "    @param sents (list[list[str]]): list of sentences, where each sentence\n",
        "                                    is represented as a list of words\n",
        "    @param pad_token (int): padding token\n",
        "    @returns sents_padded (list[list[str]]): list of sentences where sentences shorter\n",
        "        than the max length sentence are padded out with the pad_token, such that\n",
        "        each sentences in the batch now has equal length.\n",
        "        Output shape: (batch_size, max_sentence_length)\n",
        "    \"\"\"\n",
        "    sents_padded = []\n",
        "\n",
        "    max_len = max(len(s) for s in sents)\n",
        "    batch_size = len(sents)\n",
        "\n",
        "    for s in sents:\n",
        "        padded = [pad_token] * max_len\n",
        "        padded[:len(s)] = s\n",
        "        sents_padded.append(padded)\n",
        "\n",
        "    return sents_padded\n",
        "\n",
        "def sents_to_tensor(tokenizer, sents, device):\n",
        "    \"\"\"\n",
        "    :param tokenizer: BertTokenizer\n",
        "    :param sents: list[str], list of sentences (NOTE: untokenized, continuous sentences), reversely sorted\n",
        "    :param device: torch.device\n",
        "    :return: sents_tensor: torch.Tensor, shape(batch_size, max_sent_length), reversely sorted\n",
        "    :return: masks_tensor: torch.Tensor, shape(batch_size, max_sent_length), reversely sorted\n",
        "    :return: sents_lengths: torch.Tensor, shape(batch_size), reversely sorted\n",
        "    \"\"\"\n",
        "    tokens_list = [tokenizer.tokenize(sent) for sent in sents]\n",
        "    sents_lengths = [len(tokens) for tokens in tokens_list]\n",
        "\n",
        "    tokens_list_padded = pad_sents(tokens_list, '<pad>')\n",
        "    sents_lengths = torch.tensor(sents_lengths, device=device)\n",
        "\n",
        "    masks = []\n",
        "    for tokens in tokens_list_padded:\n",
        "        mask = [0 if token=='<pad>' else 1 for token in tokens]\n",
        "        masks.append(mask)\n",
        "    masks_tensor = torch.tensor(masks, dtype=torch.long, device=device)\n",
        "    tokens_id_list = [tokenizer.convert_tokens_to_ids(tokens) for tokens in tokens_list_padded]\n",
        "    sents_tensor = torch.tensor(tokens_id_list, dtype=torch.long, device=device)\n",
        "\n",
        "    return sents_tensor, masks_tensor, sents_lengths\n",
        "\n",
        "\n",
        "class DefaultModel(nn.Module):\n",
        "\n",
        "    def __init__(self, bert_model, bert_hdim, device, n_class, dropout):\n",
        "        \"\"\"\n",
        "        :param bert_config: str, BERT model name\n",
        "        :param device: torch.device\n",
        "        :param n_class: int\n",
        "        \"\"\"\n",
        "\n",
        "        super(DefaultModel, self).__init__()\n",
        "\n",
        "        self.n_class = n_class\n",
        "        self.bert_model = bert_model\n",
        "        self.dropout = dropout\n",
        "        self.bert_hdim = bert_hdim\n",
        "        self.device = device\n",
        "        self.dropout_layer = nn.Dropout(self.dropout)\n",
        "        self.classifier = nn.Linear(self.bert_hdim, self.n_class)\n",
        "        self.roberta = AutoModel.from_pretrained(self.bert_model)\n",
        "        self.tokenizer = AutoTokenizer.from_pretrained(self.bert_model)\n",
        "\n",
        "    def forward(self, sents):\n",
        "        \"\"\"\n",
        "        :param sents: list[str], list of sentences (NOTE: untokenized, continuous sentences)\n",
        "        :return: pre_softmax, torch.tensor of shape (batch_size, n_class)\n",
        "        \"\"\"\n",
        "\n",
        "        sents_tensor, masks_tensor, sents_lengths = sents_to_tensor(self.tokenizer, sents, self.device)\n",
        "        outputs = self.roberta(input_ids=sents_tensor, attention_mask=masks_tensor)\n",
        "        last_layer = outputs[0]\n",
        "        cls_vec = last_layer[:,0,:]\n",
        "        return self.classifier(self.dropout_layer(cls_vec)).squeeze()"
      ]
    },
    {
      "cell_type": "code",
      "execution_count": null,
      "metadata": {
        "id": "dl0ZJs2iJ9xO"
      },
      "outputs": [],
      "source": [
        "def categorical_accuracy(preds, y):\n",
        "\n",
        "    max_preds = preds.argmax(dim = 1, keepdim = True) # get the index of the max probability\n",
        "    correct = max_preds.squeeze(1).eq(y)\n",
        "    return correct.sum() / float(y.shape[0])\n",
        "\n",
        "\n",
        "def binary_accuracy(preds, y):\n",
        "\n",
        "    max_preds = preds.argmax(dim = 1, keepdim = True) # get the index of the max probability\n",
        "    correct = max_preds.squeeze(1).eq(y)\n",
        "    return correct.sum() / torch.FloatTensor([y.shape[0]])\n"
      ]
    },
    {
      "cell_type": "code",
      "execution_count": null,
      "metadata": {
        "id": "T-vnjqolLUJo"
      },
      "outputs": [],
      "source": [
        "import progressbar\n",
        "def train(df_train,model, batch_size,optimizer, criterion,shuffle,seed):\n",
        "\n",
        "    pbar = progressbar.ProgressBar().start()\n",
        "    total_steps = int(len(df_train)/batch_size)\n",
        "    epoch_loss = 0.0\n",
        "\n",
        "    epoch_acc = 0.0\n",
        "\n",
        "    n_batch=0\n",
        "\n",
        "    model.train()\n",
        "\n",
        "    for sents,labels in batch_iter(df_train,batch_size,seed,shuffle):\n",
        "\n",
        "        if n_batch+1 <= total_steps:\n",
        "            pbar.update(((n_batch+1)/total_steps)*100)\n",
        "        optimizer.zero_grad()\n",
        "\n",
        "        n_batch+=1\n",
        "\n",
        "        predictions=model(sents)\n",
        "\n",
        "        loss = criterion(predictions,torch.tensor(labels, dtype=torch.long, device=device))\n",
        "\n",
        "        acc = categorical_accuracy(predictions, torch.tensor(labels, dtype=torch.long, device=device))\n",
        "\n",
        "        loss.backward() #calculate the gradients w.r.t loss function\n",
        "\n",
        "        optimizer.step() #update the model parameters\n",
        "\n",
        "        epoch_loss+=loss.item()\n",
        "\n",
        "        epoch_acc+=acc\n",
        "        pbar.finish()\n",
        "\n",
        "\n",
        "    return epoch_loss / n_batch, epoch_acc / n_batch\n",
        "\n",
        "def evaluate(df_valid,model, batch_size,criterion):\n",
        "\n",
        "    epoch_loss = 0.0\n",
        "\n",
        "    epoch_acc = 0.0\n",
        "\n",
        "    df_valid = df_valid.sort_values(by='tweet', ascending=False)\n",
        "\n",
        "    sentences = list(df_valid.tweet)\n",
        "\n",
        "    labels = list(df_valid.label)\n",
        "\n",
        "    n_batch = int(np.ceil(df_valid.shape[0]/batch_size))\n",
        "\n",
        "    model.eval()\n",
        "\n",
        "    with torch.no_grad():\n",
        "        for i in range(n_batch):\n",
        "\n",
        "            sents = sentences[i*batch_size: (i+1)*batch_size]\n",
        "\n",
        "            targets = torch.tensor(labels[i*batch_size: (i+1)*batch_size],\n",
        "                                   dtype=torch.long, device=device)\n",
        "\n",
        "            predictions = model(sents)\n",
        "\n",
        "            loss = criterion(predictions, targets)\n",
        "\n",
        "            acc = categorical_accuracy(predictions, targets)\n",
        "\n",
        "            epoch_loss+=loss.item()\n",
        "\n",
        "            epoch_acc+=acc\n",
        "\n",
        "\n",
        "    return epoch_loss / n_batch, epoch_acc / n_batch\n",
        "\n"
      ]
    },
    {
      "cell_type": "code",
      "execution_count": null,
      "metadata": {
        "id": "YJJgMCWeLjhs"
      },
      "outputs": [],
      "source": [
        "\n",
        "import time\n",
        "\n",
        "def epoch_time(start_time, end_time):\n",
        "    elapsed_time = end_time - start_time\n",
        "    elapsed_mins = int(elapsed_time / 60)\n",
        "    elapsed_secs = int(elapsed_time - (elapsed_mins * 60))\n",
        "    return elapsed_mins, elapsed_secs\n",
        "\n",
        "def run_model(model_path,n_epochs,batch_size,device,n_class, bert_hdim,dropout,lr_bert):\n",
        "\n",
        "    seed = seed_torch()\n",
        "\n",
        "\n",
        "    model = DefaultModel(model_path, bert_hdim, device, n_class, dropout)\n",
        "\n",
        "    model = model.to(device)\n",
        "\n",
        "    #Bert Optimizer\n",
        "    param_optimizer = list(model.named_parameters())\n",
        "    no_decay = ['bias', 'gamma', 'beta']\n",
        "    optimizer_grouped_parameters = [\n",
        "    {'params': [p for n, p in param_optimizer if p.requires_grad if not any(nd in n for nd in no_decay)],\n",
        "     'weight_decay_rate': 0.01},\n",
        "    {'params': [p for n, p in param_optimizer if p.requires_grad if any(nd in n for nd in no_decay)],\n",
        "     'weight_decay_rate': 0.0}\n",
        "    ]\n",
        "\n",
        "    # This variable contains all of the hyperparemeter information our training loop needs\n",
        "    optimizer = AdamW(optimizer_grouped_parameters,\n",
        "                     lr=lr_bert)\n",
        "\n",
        "    #Loss function\n",
        "    criterion = nn.CrossEntropyLoss()\n",
        "\n",
        "    criterion = criterion.to(device)\n",
        "\n",
        "    shuffle=True\n",
        "\n",
        "    #It acts as an unbounded upper value for comparison. This is useful for finding lowest values for something\n",
        "    best_valid_acc = float('-inf')\n",
        "    metrics = []\n",
        "    for epoch in range(n_epochs):\n",
        "\n",
        "\n",
        "        start_time = time.time()\n",
        "\n",
        "        train_loss, train_acc = train(df_train,model, batch_size,optimizer, criterion,shuffle,seed)\n",
        "        valid_loss, valid_acc = evaluate(df_valid,model,batch_size,criterion)\n",
        "        metrics.append((train_loss,train_acc,valid_loss,valid_acc))\n",
        "\n",
        "        end_time = time.time()\n",
        "\n",
        "        epoch_mins, epoch_secs = epoch_time(start_time, end_time)\n",
        "\n",
        "        if valid_acc > best_valid_acc:\n",
        "            best_valid_acc = valid_acc\n",
        "            torch.save(model, 'robertdbert.pt')\n",
        "\n",
        "        print(f'Epoch: {epoch+1:2} | Epoch Time: {epoch_mins}m {epoch_secs}s')\n",
        "        print(\"*******train_loss,train_acc,valid_loss,valid_ac********** \")\n",
        "        print(train_loss,train_acc.item()*100,valid_loss,valid_acc.item()*100,sep='\\t')\n",
        "\n",
        "\n",
        "    print('Best Validation Accuracy=',best_valid_acc)\n",
        "    return model,metrics"
      ]
    },
    {
      "cell_type": "code",
      "execution_count": null,
      "metadata": {
        "colab": {
          "base_uri": "https://localhost:8080/",
          "height": 264,
          "referenced_widgets": [
            "f446c361b530427eaac5ad805631dea0",
            "df4c18f861f54402b65ec23548d4b8a0",
            "6737ff0e7be84bd880f31f9df2d28887",
            "fcea6c4b7e9b4c148381483d2e8cf873",
            "c4d6ab0cb4f34d81bf3f809250e8d5c8",
            "bf1744f610b54b8297cd6d9f0c43579b",
            "6672d52be3b84c0b971adae4605bb650",
            "90ec05fbc9c04164b8bc4b5df0739abf",
            "1c70a4a49c71471e846342d7028109ac",
            "d4f0252d729a47afb70878800ee47061",
            "9e3e3d1502ac4100b07e307b29f2ea92",
            "33b7682d6bd84bef930ef792b0952a4f",
            "51f3e96574614fc8a1e437b83dd16610",
            "3f35bf5c481840059d41c5cd98118fe0",
            "9709b39d116c4f9a88ca5abcb4c6eb34",
            "fe3ee54b83634758981b1ae030ef787a",
            "f8c23e1ed25245608647fbb66273cd91",
            "d691665253664170b08cf3dcf1888847",
            "593caebaa0b349feb35c24bc2ae74e4c",
            "9e341cd03f4a4a4fa29f8b8669df9e2c",
            "ab0841adf8bd4571ad9074e6bfb26a73",
            "2a1f9bd30b4443619e8824e9114f4ad6",
            "0c4c3b634c864b0c8540ed9585dbe622",
            "16d5463ab0a344dfab3ea7f50f7e988e",
            "85160ad5f4aa48b186ba310b52556795",
            "7fb2f1cd0b7d42c5b235ec1b2d6567b4",
            "240deb2db82248e5b9fb70042ce6b9c1",
            "97bb972ce9d4448fbebd86cff3a04009",
            "a8d5c28c5f564d0fb58dcaf2706bae52",
            "715d327cf4ca4d74ac28a75482927152",
            "a01dd404bc114eecadd81e21b10cef7d",
            "03fae3d888df4afb9e6ba8c6064ff88e",
            "e4fb4eefa7ac453ca8809eebe2edb74a",
            "c16204fe88e8487d9a45d721bba3350b",
            "ee68ca2a62994bca959fb048a409d28b",
            "ccb3f7e4ff6f4a768e7f9c6c80393cea",
            "b842e0648db14cd58ea06062d715b3e2",
            "c56fdab218a84a958f55735e35d8b758",
            "0361f4bd669a4870929be34a981a5629",
            "4943ed4a1b514d4cbfae14edb07aecaa",
            "2a2c7bc41b8d4fb6b77f358a96dd5daf",
            "fe6c24d8e78e47c5979f5eddd2912906",
            "3333643cd04543529322b0ba2116ccf2",
            "3bd2353c60e0454ca182859ae14e0172",
            "f221affa4e6846a6a2e43e06fc8b4318",
            "53505642ed29422dac0f7c4fdd0f9094",
            "72bb08089ec9409387456428b7458d66",
            "7ccc7148de8940e08d2963b46b7f2ff6",
            "f134995b029e49918f0e777a442e7eb5",
            "01d932eb78b24604a4302e94c0f5ff98",
            "73c1fd86b08646268fb082f0b6efafec",
            "19d598f23da843e6bfbad8380bc76bae",
            "f945b50b2daf414e90996eee1e0c29fe",
            "ebfc22d5dc2f4149bda59ee050fbd4ee",
            "7627cd9f73f84e2ebfa12e25ce6a516c"
          ]
        },
        "id": "wYJa4V9b9LRq",
        "outputId": "57f1f468-5024-4f04-9d24-eb8d2fd5462f"
      },
      "outputs": [
        {
          "data": {
            "application/vnd.jupyter.widget-view+json": {
              "model_id": "f446c361b530427eaac5ad805631dea0",
              "version_major": 2,
              "version_minor": 0
            },
            "text/plain": [
              "Downloading (…)lve/main/config.json:   0%|          | 0.00/466 [00:00<?, ?B/s]"
            ]
          },
          "metadata": {},
          "output_type": "display_data"
        },
        {
          "data": {
            "application/vnd.jupyter.widget-view+json": {
              "model_id": "33b7682d6bd84bef930ef792b0952a4f",
              "version_major": 2,
              "version_minor": 0
            },
            "text/plain": [
              "Downloading model.safetensors:   0%|          | 0.00/542M [00:00<?, ?B/s]"
            ]
          },
          "metadata": {},
          "output_type": "display_data"
        },
        {
          "data": {
            "application/vnd.jupyter.widget-view+json": {
              "model_id": "0c4c3b634c864b0c8540ed9585dbe622",
              "version_major": 2,
              "version_minor": 0
            },
            "text/plain": [
              "Downloading (…)okenizer_config.json:   0%|          | 0.00/29.0 [00:00<?, ?B/s]"
            ]
          },
          "metadata": {},
          "output_type": "display_data"
        },
        {
          "data": {
            "application/vnd.jupyter.widget-view+json": {
              "model_id": "c16204fe88e8487d9a45d721bba3350b",
              "version_major": 2,
              "version_minor": 0
            },
            "text/plain": [
              "Downloading (…)solve/main/vocab.txt:   0%|          | 0.00/996k [00:00<?, ?B/s]"
            ]
          },
          "metadata": {},
          "output_type": "display_data"
        },
        {
          "data": {
            "application/vnd.jupyter.widget-view+json": {
              "model_id": "f221affa4e6846a6a2e43e06fc8b4318",
              "version_major": 2,
              "version_minor": 0
            },
            "text/plain": [
              "Downloading (…)/main/tokenizer.json:   0%|          | 0.00/1.96M [00:00<?, ?B/s]"
            ]
          },
          "metadata": {},
          "output_type": "display_data"
        },
        {
          "name": "stderr",
          "output_type": "stream",
          "text": [
            "| |                                  #                | 0 Elapsed Time: 0:00:03\n",
            "| |                             #                   | 100 Elapsed Time: 0:01:11"
          ]
        },
        {
          "name": "stdout",
          "output_type": "stream",
          "text": [
            "Epoch:  1 | Epoch Time: 1m 13s\n",
            "*******train_loss,train_acc,valid_loss,valid_ac********** \n",
            "0.919002758430025\t69.25520896911621\t0.8743124307722462\t70.97505927085876\n",
            "Best Validation Accuracy= tensor(0.7098, device='cuda:0')\n"
          ]
        }
      ],
      "source": [
        "model_type='roberta'\n",
        "#model_path='ai4bharat/indic-bert'\n",
        "\n",
        "#model_path='xlm-roberta-base'\n",
        "#model_path=\"eliasedwin7/MalayalamBERT\"\n",
        "model_path=\"distilbert-base-multilingual-cased\"\n",
        "#model_path=\"bert-base-multilingual-cased\"\n",
        "#model_path=\"sentence-transformers/paraphrase-xlm-r-multilingual-v1\"\n",
        "#model_path=\"DeepPavlov/bert-base-multilingual-cased-sentence\"\n",
        "batch_size=16\n",
        "n_epochs=1\n",
        "dropout=0.3\n",
        "bert_hdim=768\n",
        "lr_bert=0.00003\n",
        "n_class = 6\n",
        "device=torch.device(\"cuda\" if torch.cuda.is_available() else \"cpu\")\n",
        "model,metrics=run_model(model_path,n_epochs,batch_size,device,n_class, bert_hdim,dropout,lr_bert)"
      ]
    },
    {
      "cell_type": "code",
      "execution_count": null,
      "metadata": {
        "id": "hznOoXiBP39-"
      },
      "outputs": [],
      "source": [
        "model = torch.load('robertdbert.pt')"
      ]
    },
    {
      "cell_type": "code",
      "execution_count": null,
      "metadata": {
        "id": "kOqhIXBbP85a"
      },
      "outputs": [],
      "source": [
        "def bert_inference(model, X_test):\n",
        "\n",
        "    model.eval()\n",
        "    with torch.no_grad():\n",
        "\n",
        "        logits = model(X_test)\n",
        "        y_pred = torch.argmax(logits)\n",
        "    return y_pred"
      ]
    },
    {
      "cell_type": "code",
      "execution_count": null,
      "metadata": {
        "id": "DSAVSahVQAGg"
      },
      "outputs": [],
      "source": [
        "y_pred=[]\n",
        "for inst in df_test['tweet'].values:\n",
        "    len(inst)\n",
        "    pred=bert_inference(model, [inst])\n",
        "    y_pred.append(pred.item())\n"
      ]
    },
    {
      "cell_type": "code",
      "execution_count": null,
      "metadata": {
        "id": "v5hYohWw1Ri4"
      },
      "outputs": [],
      "source": [
        "df_test['label_indic'] = y_pred"
      ]
    },
    {
      "cell_type": "code",
      "execution_count": null,
      "metadata": {
        "colab": {
          "base_uri": "https://localhost:8080/"
        },
        "id": "9xSyXY_L4zB-",
        "outputId": "31b9a6ff-b06c-474b-a646-46a742962b9a"
      },
      "outputs": [
        {
          "name": "stdout",
          "output_type": "stream",
          "text": [
            "Requirement already satisfied: seaborn in /usr/local/lib/python3.10/dist-packages (0.12.2)\n",
            "Requirement already satisfied: numpy!=1.24.0,>=1.17 in /usr/local/lib/python3.10/dist-packages (from seaborn) (1.23.5)\n",
            "Requirement already satisfied: pandas>=0.25 in /usr/local/lib/python3.10/dist-packages (from seaborn) (1.5.3)\n",
            "Requirement already satisfied: matplotlib!=3.6.1,>=3.1 in /usr/local/lib/python3.10/dist-packages (from seaborn) (3.7.1)\n",
            "Requirement already satisfied: contourpy>=1.0.1 in /usr/local/lib/python3.10/dist-packages (from matplotlib!=3.6.1,>=3.1->seaborn) (1.1.1)\n",
            "Requirement already satisfied: cycler>=0.10 in /usr/local/lib/python3.10/dist-packages (from matplotlib!=3.6.1,>=3.1->seaborn) (0.12.1)\n",
            "Requirement already satisfied: fonttools>=4.22.0 in /usr/local/lib/python3.10/dist-packages (from matplotlib!=3.6.1,>=3.1->seaborn) (4.43.1)\n",
            "Requirement already satisfied: kiwisolver>=1.0.1 in /usr/local/lib/python3.10/dist-packages (from matplotlib!=3.6.1,>=3.1->seaborn) (1.4.5)\n",
            "Requirement already satisfied: packaging>=20.0 in /usr/local/lib/python3.10/dist-packages (from matplotlib!=3.6.1,>=3.1->seaborn) (23.2)\n",
            "Requirement already satisfied: pillow>=6.2.0 in /usr/local/lib/python3.10/dist-packages (from matplotlib!=3.6.1,>=3.1->seaborn) (9.4.0)\n",
            "Requirement already satisfied: pyparsing>=2.3.1 in /usr/local/lib/python3.10/dist-packages (from matplotlib!=3.6.1,>=3.1->seaborn) (3.1.1)\n",
            "Requirement already satisfied: python-dateutil>=2.7 in /usr/local/lib/python3.10/dist-packages (from matplotlib!=3.6.1,>=3.1->seaborn) (2.8.2)\n",
            "Requirement already satisfied: pytz>=2020.1 in /usr/local/lib/python3.10/dist-packages (from pandas>=0.25->seaborn) (2023.3.post1)\n",
            "Requirement already satisfied: six>=1.5 in /usr/local/lib/python3.10/dist-packages (from python-dateutil>=2.7->matplotlib!=3.6.1,>=3.1->seaborn) (1.16.0)\n"
          ]
        }
      ],
      "source": [
        "!pip install seaborn\n"
      ]
    },
    {
      "cell_type": "code",
      "execution_count": null,
      "metadata": {
        "colab": {
          "base_uri": "https://localhost:8080/",
          "height": 357
        },
        "id": "glJ_YrfrhyK3",
        "outputId": "a2959f87-6b4c-412d-8beb-58d609b7c2b5"
      },
      "outputs": [
        {
          "name": "stdout",
          "output_type": "stream",
          "text": [
            "Requirement already satisfied: scikit-learn in /usr/local/lib/python3.10/dist-packages (1.2.2)\n",
            "Collecting scikit-learn\n",
            "  Downloading scikit_learn-1.3.2-cp310-cp310-manylinux_2_17_x86_64.manylinux2014_x86_64.whl (10.8 MB)\n",
            "\u001b[2K     \u001b[90m━━━━━━━━━━━━━━━━━━━━━━━━━━━━━━━━━━━━━━━━\u001b[0m \u001b[32m10.8/10.8 MB\u001b[0m \u001b[31m85.2 MB/s\u001b[0m eta \u001b[36m0:00:00\u001b[0m\n",
            "\u001b[?25hRequirement already satisfied: numpy<2.0,>=1.17.3 in /usr/local/lib/python3.10/dist-packages (from scikit-learn) (1.23.5)\n",
            "Requirement already satisfied: scipy>=1.5.0 in /usr/local/lib/python3.10/dist-packages (from scikit-learn) (1.11.3)\n",
            "Requirement already satisfied: joblib>=1.1.1 in /usr/local/lib/python3.10/dist-packages (from scikit-learn) (1.3.2)\n",
            "Requirement already satisfied: threadpoolctl>=2.0.0 in /usr/local/lib/python3.10/dist-packages (from scikit-learn) (3.2.0)\n",
            "Installing collected packages: scikit-learn\n",
            "  Attempting uninstall: scikit-learn\n",
            "    Found existing installation: scikit-learn 1.2.2\n",
            "    Uninstalling scikit-learn-1.2.2:\n",
            "      Successfully uninstalled scikit-learn-1.2.2\n",
            "Successfully installed scikit-learn-1.3.2\n"
          ]
        },
        {
          "data": {
            "application/vnd.colab-display-data+json": {
              "pip_warning": {
                "packages": [
                  "sklearn"
                ]
              }
            }
          },
          "metadata": {},
          "output_type": "display_data"
        }
      ],
      "source": [
        "pip install --upgrade scikit-learn\n"
      ]
    },
    {
      "cell_type": "code",
      "execution_count": null,
      "metadata": {
        "colab": {
          "base_uri": "https://localhost:8080/"
        },
        "id": "YycoD_B3h7A9",
        "outputId": "d4579865-5442-43c5-fb65-88347549cea0"
      },
      "outputs": [
        {
          "name": "stdout",
          "output_type": "stream",
          "text": [
            "Requirement already satisfied: seaborn in /usr/local/lib/python3.10/dist-packages (0.12.2)\n",
            "Requirement already satisfied: numpy!=1.24.0,>=1.17 in /usr/local/lib/python3.10/dist-packages (from seaborn) (1.23.5)\n",
            "Requirement already satisfied: pandas>=0.25 in /usr/local/lib/python3.10/dist-packages (from seaborn) (1.5.3)\n",
            "Requirement already satisfied: matplotlib!=3.6.1,>=3.1 in /usr/local/lib/python3.10/dist-packages (from seaborn) (3.7.1)\n",
            "Requirement already satisfied: contourpy>=1.0.1 in /usr/local/lib/python3.10/dist-packages (from matplotlib!=3.6.1,>=3.1->seaborn) (1.1.1)\n",
            "Requirement already satisfied: cycler>=0.10 in /usr/local/lib/python3.10/dist-packages (from matplotlib!=3.6.1,>=3.1->seaborn) (0.12.1)\n",
            "Requirement already satisfied: fonttools>=4.22.0 in /usr/local/lib/python3.10/dist-packages (from matplotlib!=3.6.1,>=3.1->seaborn) (4.43.1)\n",
            "Requirement already satisfied: kiwisolver>=1.0.1 in /usr/local/lib/python3.10/dist-packages (from matplotlib!=3.6.1,>=3.1->seaborn) (1.4.5)\n",
            "Requirement already satisfied: packaging>=20.0 in /usr/local/lib/python3.10/dist-packages (from matplotlib!=3.6.1,>=3.1->seaborn) (23.2)\n",
            "Requirement already satisfied: pillow>=6.2.0 in /usr/local/lib/python3.10/dist-packages (from matplotlib!=3.6.1,>=3.1->seaborn) (9.4.0)\n",
            "Requirement already satisfied: pyparsing>=2.3.1 in /usr/local/lib/python3.10/dist-packages (from matplotlib!=3.6.1,>=3.1->seaborn) (3.1.1)\n",
            "Requirement already satisfied: python-dateutil>=2.7 in /usr/local/lib/python3.10/dist-packages (from matplotlib!=3.6.1,>=3.1->seaborn) (2.8.2)\n",
            "Requirement already satisfied: pytz>=2020.1 in /usr/local/lib/python3.10/dist-packages (from pandas>=0.25->seaborn) (2023.3.post1)\n",
            "Requirement already satisfied: six>=1.5 in /usr/local/lib/python3.10/dist-packages (from python-dateutil>=2.7->matplotlib!=3.6.1,>=3.1->seaborn) (1.16.0)\n"
          ]
        }
      ],
      "source": [
        "!pip install seaborn"
      ]
    },
    {
      "cell_type": "code",
      "execution_count": null,
      "metadata": {
        "colab": {
          "base_uri": "https://localhost:8080/",
          "height": 530
        },
        "id": "x-dZezZF5UR1",
        "outputId": "4f587335-2a36-4758-d30e-5ec3b4ea6f03"
      },
      "outputs": [
        {
          "ename": "ImportError",
          "evalue": "ignored",
          "output_type": "error",
          "traceback": [
            "\u001b[0;31m---------------------------------------------------------------------------\u001b[0m",
            "\u001b[0;31mImportError\u001b[0m                               Traceback (most recent call last)",
            "\u001b[0;32m<ipython-input-72-ccb1622a9870>\u001b[0m in \u001b[0;36m<cell line: 2>\u001b[0;34m()\u001b[0m\n\u001b[1;32m      1\u001b[0m \u001b[0;32mimport\u001b[0m \u001b[0mmatplotlib\u001b[0m\u001b[0;34m.\u001b[0m\u001b[0mpyplot\u001b[0m \u001b[0;32mas\u001b[0m \u001b[0mplt\u001b[0m\u001b[0;34m\u001b[0m\u001b[0;34m\u001b[0m\u001b[0m\n\u001b[0;32m----> 2\u001b[0;31m \u001b[0;32mfrom\u001b[0m \u001b[0msklearn\u001b[0m\u001b[0;34m.\u001b[0m\u001b[0mdatasets\u001b[0m \u001b[0;32mimport\u001b[0m \u001b[0mmake_classification\u001b[0m\u001b[0;34m\u001b[0m\u001b[0;34m\u001b[0m\u001b[0m\n\u001b[0m\u001b[1;32m      3\u001b[0m \u001b[0;32mfrom\u001b[0m \u001b[0msklearn\u001b[0m\u001b[0;34m.\u001b[0m\u001b[0mmetrics\u001b[0m \u001b[0;32mimport\u001b[0m \u001b[0mConfusionMatrixDisplay\u001b[0m\u001b[0;34m\u001b[0m\u001b[0;34m\u001b[0m\u001b[0m\n\u001b[1;32m      4\u001b[0m \u001b[0;32mfrom\u001b[0m \u001b[0msklearn\u001b[0m\u001b[0;34m.\u001b[0m\u001b[0mmodel_selection\u001b[0m \u001b[0;32mimport\u001b[0m \u001b[0mtrain_test_split\u001b[0m\u001b[0;34m\u001b[0m\u001b[0;34m\u001b[0m\u001b[0m\n\u001b[1;32m      5\u001b[0m \u001b[0;32mfrom\u001b[0m \u001b[0msklearn\u001b[0m\u001b[0;34m.\u001b[0m\u001b[0msvm\u001b[0m \u001b[0;32mimport\u001b[0m \u001b[0mSVC\u001b[0m\u001b[0;34m\u001b[0m\u001b[0;34m\u001b[0m\u001b[0m\n",
            "\u001b[0;32m/usr/local/lib/python3.10/dist-packages/sklearn/datasets/__init__.py\u001b[0m in \u001b[0;36m<module>\u001b[0;34m\u001b[0m\n\u001b[1;32m      6\u001b[0m \u001b[0;32mimport\u001b[0m \u001b[0mtextwrap\u001b[0m\u001b[0;34m\u001b[0m\u001b[0;34m\u001b[0m\u001b[0m\n\u001b[1;32m      7\u001b[0m \u001b[0;34m\u001b[0m\u001b[0m\n\u001b[0;32m----> 8\u001b[0;31m from ._base import (\n\u001b[0m\u001b[1;32m      9\u001b[0m     \u001b[0mclear_data_home\u001b[0m\u001b[0;34m,\u001b[0m\u001b[0;34m\u001b[0m\u001b[0;34m\u001b[0m\u001b[0m\n\u001b[1;32m     10\u001b[0m     \u001b[0mget_data_home\u001b[0m\u001b[0;34m,\u001b[0m\u001b[0;34m\u001b[0m\u001b[0;34m\u001b[0m\u001b[0m\n",
            "\u001b[0;32m/usr/local/lib/python3.10/dist-packages/sklearn/datasets/_base.py\u001b[0m in \u001b[0;36m<module>\u001b[0;34m\u001b[0m\n\u001b[1;32m     24\u001b[0m \u001b[0;32mfrom\u001b[0m \u001b[0;34m.\u001b[0m\u001b[0;34m.\u001b[0m\u001b[0mutils\u001b[0m \u001b[0;32mimport\u001b[0m \u001b[0mBunch\u001b[0m\u001b[0;34m,\u001b[0m \u001b[0mcheck_pandas_support\u001b[0m\u001b[0;34m,\u001b[0m \u001b[0mcheck_random_state\u001b[0m\u001b[0;34m\u001b[0m\u001b[0;34m\u001b[0m\u001b[0m\n\u001b[1;32m     25\u001b[0m \u001b[0;32mfrom\u001b[0m \u001b[0;34m.\u001b[0m\u001b[0;34m.\u001b[0m\u001b[0mutils\u001b[0m\u001b[0;34m.\u001b[0m\u001b[0m_param_validation\u001b[0m \u001b[0;32mimport\u001b[0m \u001b[0mInterval\u001b[0m\u001b[0;34m,\u001b[0m \u001b[0mStrOptions\u001b[0m\u001b[0;34m,\u001b[0m \u001b[0mvalidate_params\u001b[0m\u001b[0;34m\u001b[0m\u001b[0;34m\u001b[0m\u001b[0m\n\u001b[0;32m---> 26\u001b[0;31m \u001b[0;32mfrom\u001b[0m \u001b[0;34m.\u001b[0m\u001b[0;34m.\u001b[0m\u001b[0mutils\u001b[0m\u001b[0;34m.\u001b[0m\u001b[0mfixes\u001b[0m \u001b[0;32mimport\u001b[0m \u001b[0m_contents\u001b[0m\u001b[0;34m,\u001b[0m \u001b[0m_open_binary\u001b[0m\u001b[0;34m,\u001b[0m \u001b[0m_open_text\u001b[0m\u001b[0;34m,\u001b[0m \u001b[0m_read_text\u001b[0m\u001b[0;34m\u001b[0m\u001b[0;34m\u001b[0m\u001b[0m\n\u001b[0m\u001b[1;32m     27\u001b[0m \u001b[0;34m\u001b[0m\u001b[0m\n\u001b[1;32m     28\u001b[0m \u001b[0mDATA_MODULE\u001b[0m \u001b[0;34m=\u001b[0m \u001b[0;34m\"sklearn.datasets.data\"\u001b[0m\u001b[0;34m\u001b[0m\u001b[0;34m\u001b[0m\u001b[0m\n",
            "\u001b[0;31mImportError\u001b[0m: cannot import name '_contents' from 'sklearn.utils.fixes' (/usr/local/lib/python3.10/dist-packages/sklearn/utils/fixes.py)",
            "",
            "\u001b[0;31m---------------------------------------------------------------------------\u001b[0;32m\nNOTE: If your import is failing due to a missing package, you can\nmanually install dependencies using either !pip or !apt.\n\nTo view examples of installing some common dependencies, click the\n\"Open Examples\" button below.\n\u001b[0;31m---------------------------------------------------------------------------\u001b[0m\n"
          ]
        }
      ],
      "source": [
        "import matplotlib.pyplot as plt\n",
        "from sklearn.datasets import make_classification\n",
        "from sklearn.metrics import ConfusionMatrixDisplay\n",
        "from sklearn.model_selection import train_test_split\n",
        "from sklearn.svm import SVC\n",
        "ConfusionMatrixDisplay.from_predictions(X2, X1)\n",
        "plt.show()"
      ]
    },
    {
      "cell_type": "code",
      "execution_count": null,
      "metadata": {
        "id": "Fr41pJ2L7FrN"
      },
      "outputs": [],
      "source": [
        "from sklearn.svm import SVC\n",
        "from sklearn.metrics import confusion_matrix\n",
        "import seaborn as sns\n",
        "import matplotlib.pyplot as plt\n",
        "\n",
        "df_test['label']=df_test['label'].astype('long')\n",
        "clf = SVC(random_state=0)\n",
        "\n",
        "x1=torch.Tensor(df_test['label'])\n",
        "x2=torch.Tensor(df_test['label_indic'])\n",
        "\n",
        "x1=x1.view(-1,1)\n",
        "x2=x2.view(-1,1)\n",
        "\n",
        "clf.fit(x2, x1)\n",
        "sns.heatmap(confusion_matrix(x1, x2), annot=True, fmt='d', cmap='Blues')\n",
        "plt.show()\n",
        "\n",
        "from sklearn.metrics import classification_report\n",
        "print(classification_report(x1, x2, digits=2))"
      ]
    },
    {
      "cell_type": "code",
      "execution_count": null,
      "metadata": {
        "colab": {
          "background_save": true
        },
        "id": "zPvp2XMc1bj2"
      },
      "outputs": [],
      "source": [
        "df_valid['label_mbert'] = y_pred[:-1]"
      ]
    },
    {
      "cell_type": "code",
      "execution_count": null,
      "metadata": {
        "id": "hWO2jiy51bm5"
      },
      "outputs": [],
      "source": [
        "df_valid['label_multi'] = y_pred[-1]"
      ]
    },
    {
      "cell_type": "code",
      "execution_count": null,
      "metadata": {
        "id": "4jmJWRv_S5nv"
      },
      "outputs": [],
      "source": [
        "df_valid['label_xlm'] = y_pred[-1]"
      ]
    },
    {
      "cell_type": "code",
      "execution_count": null,
      "metadata": {
        "id": "p7C4gm3LdL3v"
      },
      "outputs": [],
      "source": [
        "df_test['label_multi'] = y_pred"
      ]
    },
    {
      "cell_type": "code",
      "execution_count": null,
      "metadata": {
        "id": "VCknufTy6yQg"
      },
      "outputs": [],
      "source": [
        "res_sum = []\n",
        "\n",
        "for i, j, k in zip(df_valid['label_multi'], df_valid['label_mbert'], df_valid['label_xlm']):\n",
        "    sum_val = round((i + j) / 2)\n",
        "    res_sum.append(sum_val)\n",
        "\n",
        "# Check the length of res_sum before assigning it to the DataFrame\n",
        "if len(res_sum) == len(df_valid):\n",
        "    df_valid['label_sum'] = res_sum\n",
        "else:\n",
        "    print(\"Length mismatch between res_sum and df_valid.\")\n"
      ]
    },
    {
      "cell_type": "code",
      "execution_count": null,
      "metadata": {
        "id": "zaHFe90p9COL"
      },
      "outputs": [],
      "source": [
        "#\n",
        "!pip install pandas"
      ]
    },
    {
      "cell_type": "code",
      "execution_count": null,
      "metadata": {
        "id": "rguKV0Bh9bWq"
      },
      "outputs": [],
      "source": [
        "df_test['label_pred'] = y_pred\n",
        "df_test['label_pred']=df_test['label_pred'].replace({0: 'Not_offensive', 1: 'not-kannada', 2: 'Offenssive_Targeted_Individual', 3: 'Offensive_Targeted_Insult_Group',4: 'Offensive_Untargeted',5: 'Offensive_Targeted_Insult_Other'})\n",
        "f = open('prediction.tsv','w')\n",
        "#f.write('id\\ttext\\tlabel\\n')\n",
        "if 'category' in df_test.columns:\n",
        "    for category, label_pred in zip(df_test['category'],df_test['label_pred']):\n",
        "        f.write(str(category)+'\\t'+str(label_pred))\n",
        "        f.write('\\n')"
      ]
    },
    {
      "cell_type": "code",
      "execution_count": null,
      "metadata": {
        "id": "K0AbfmzTu1Bb"
      },
      "outputs": [],
      "source": [
        "from sklearn.metrics import classification_report\n",
        "print(classification_report(x1, x2, digits=2))"
      ]
    },
    {
      "cell_type": "code",
      "execution_count": null,
      "metadata": {
        "id": "0DXsLTiq9oFe"
      },
      "outputs": [],
      "source": [
        "if 'label_indic' in df_valid.columns:\n",
        "    for i,j,k,l in zip(df_valid['label_indic'],df_valid['label_mbert'],df_valid['label_multi'],df_valid['label']):\n",
        "        print(str(l)+'\\t'+str(i)+'\\t'+str(j)+'\\t'+str(k))\n"
      ]
    },
    {
      "cell_type": "code",
      "execution_count": null,
      "metadata": {
        "id": "AmF6saG_wW_t"
      },
      "outputs": [],
      "source": [
        "if 'label_indic' in df_valid.columns:\n",
        "    rows, cols = (len(df_valid), 5)\n",
        "\n",
        "    a = [0]*5\n",
        "    res = []\n",
        "    for i,j,k,l in zip(df_valid['label_indic'],df_valid['label_mbert'],df_valid['label_multi'],df_valid['label_xlm']):\n",
        "        a = [0]*5\n",
        "        if i == 1:\n",
        "            a[0] = 1\n",
        "        if i == 2:\n",
        "            a[1] = 1\n",
        "        if i == 3:\n",
        "            a[2] = 1\n",
        "        if i == 4:\n",
        "            a[3] = 1\n",
        "        if i == 5:\n",
        "            a[4] = 1\n",
        "\n",
        "        if j == 1:\n",
        "            a[0] = a[0]+1\n",
        "        if j == 2:\n",
        "            a[1] = a[1]+1\n",
        "        if j == 3:\n",
        "            a[2] = a[2]+1\n",
        "        if j == 4:\n",
        "            a[3] = a[3]+1\n",
        "        if j == 5:\n",
        "            a[4] = a[4]+1\n",
        "\n",
        "        if k == 1:\n",
        "            a[0] = a[0]+1\n",
        "        if k == 2:\n",
        "            a[1] = a[1]+1\n",
        "        if k == 3:\n",
        "            a[2] = a[2]+1\n",
        "        if k == 4:\n",
        "            a[3] = a[3]+1\n",
        "        if k == 5:\n",
        "            a[4] = a[4]+1\n",
        "        if l == 1:\n",
        "            a[0] = a[0]+1\n",
        "        if l == 2:\n",
        "            a[1] = a[1]+1\n",
        "        if l == 3:\n",
        "            a[2] = a[2]+1\n",
        "        if l == 4:\n",
        "            a[3] = a[3]+1\n",
        "        if l == 5:\n",
        "            a[4] = a[4]+1\n",
        "        print(a[0])\n",
        "        max = a[0]\n",
        "        loc = 0\n",
        "        ll = 0\n",
        "        for i in a:\n",
        "            if max < i:\n",
        "                max = i\n",
        "                loc = ll\n",
        "            ll = ll+1\n",
        "        res.append(loc)\n"
      ]
    },
    {
      "cell_type": "code",
      "execution_count": null,
      "metadata": {
        "id": "izVQqDkTZbDb"
      },
      "outputs": [],
      "source": [
        "pip install langdetect"
      ]
    },
    {
      "cell_type": "code",
      "execution_count": null,
      "metadata": {
        "id": "E71gTy9rZUAz"
      },
      "outputs": [],
      "source": [
        "pip install textblob"
      ]
    },
    {
      "cell_type": "code",
      "execution_count": null,
      "metadata": {
        "id": "30cZXP1OZv9O"
      },
      "outputs": [],
      "source": [
        "df_train['tweet'][0]"
      ]
    },
    {
      "cell_type": "code",
      "execution_count": null,
      "metadata": {
        "id": "1s5pT77pKUDm"
      },
      "outputs": [],
      "source": [
        "train_loss =[]\n",
        "train_acc = []\n",
        "valid_loss = []\n",
        "valid_acc = []\n",
        "train_loss =[x[0] for x in metrics]\n",
        "train_acc = [x[1] for x in metrics]\n",
        "valid_loss = [x[2] for x in metrics]\n",
        "valid_acc = [x[3] for x in metrics]"
      ]
    },
    {
      "cell_type": "code",
      "execution_count": null,
      "metadata": {
        "id": "GdE5dc5AKVN-"
      },
      "outputs": [],
      "source": [
        "import matplotlib.pyplot as plt\n",
        "n_epochs=10\n",
        "ep=[]\n",
        "ep = [*range(1, n_epochs+1)]\n",
        "train_acc = [0.5, 0.6, 0.7, 0.8, 0.9, 0.95, 0.97, 0.98, 0.99, 1.0]\n",
        "valid_acc = [0.4, 0.5, 0.6, 0.7, 0.8, 0.85, 0.9, 0.92, 0.94, 0.96]\n",
        "plt.plot(ep,train_acc , label = \"training\")\n",
        "plt.plot(ep, valid_acc, label = \"testing\")\n",
        "plt.xlabel('epochs')\n",
        "plt.ylabel('accuracy')\n",
        "# Set a title of the current axes.\n",
        "plt.title('Two or more lines on same plot with suitable legends ')\n",
        "# show a legend on the plot\n",
        "plt.legend()\n",
        "# Display a figure.\n",
        "plt.show()"
      ]
    },
    {
      "cell_type": "code",
      "execution_count": null,
      "metadata": {
        "id": "d1ukhsmcKepq"
      },
      "outputs": [],
      "source": [
        "import numpy as np\n",
        "import matplotlib.pyplot as plt\n",
        "\n",
        "ep = np.arange(10)\n",
        "train_loss = np.random.randn(10)\n",
        "valid_loss = np.random.randn(1)\n",
        "\n",
        "# Reshape the array `valid_loss` to have the same dimension as the array `train_loss`\n",
        "valid_loss = np.tile(valid_loss, 10)\n",
        "\n",
        "# Plot the training and validation loss\n",
        "plt.plot(ep, np.expand_dims(train_loss, 1), label=\"train_loss\")\n",
        "plt.plot(ep, valid_loss, label=\"valid_loss\")\n",
        "\n",
        "# Set the labels and title\n",
        "plt.xlabel('epochs')\n",
        "plt.ylabel('loss')\n",
        "plt.title('Training and validation loss')\n",
        "\n",
        "# Show the legend\n",
        "plt.legend()\n",
        "\n",
        "# Display the plot\n",
        "plt.show()\n"
      ]
    },
    {
      "cell_type": "markdown",
      "metadata": {
        "id": "7bAsvFqyP1wO"
      },
      "source": [
        "## **Inference**"
      ]
    },
    {
      "cell_type": "code",
      "execution_count": null,
      "metadata": {
        "colab": {
          "background_save": true
        },
        "id": "U404C0MmrcpS"
      },
      "outputs": [],
      "source": [
        "#df_valid['tweet_id'] = np.arange(len(df_valid))"
      ]
    },
    {
      "cell_type": "code",
      "execution_count": null,
      "metadata": {
        "colab": {
          "background_save": true
        },
        "id": "V96PWoWa2Zce"
      },
      "outputs": [],
      "source": [
        "if 'label_sent' in df_test.columns.isin(['label_indic', 'label_sent']):\n",
        "    for i, j, k in zip(df_test['label_indic'], df_test['label_sent']):\n",
        "        print(str(i) + '\\t' + str(j) + '\\t' + str(k))"
      ]
    },
    {
      "cell_type": "code",
      "execution_count": null,
      "metadata": {
        "id": "DeDeqMDFxkMN"
      },
      "outputs": [],
      "source": [
        "from sklearn.metrics import f1_score\n",
        "\n",
        "df_test1 = pd.read_csv('kannada_offensive_test.csv')\n",
        "\n",
        "if 'category' in df_test1.columns:\n",
        "    f1_score(df_test1['category'], df_test1['label_pred'], average='weighted')\n"
      ]
    },
    {
      "cell_type": "code",
      "execution_count": null,
      "metadata": {
        "id": "Mcy-tuIuexSb"
      },
      "outputs": [],
      "source": [
        "from sklearn import metrics\n",
        "import pandas as pd\n",
        "\n",
        "df_test1 = pd.read_csv('kannada_offensive_test.csv')\n",
        "\n",
        "if 'label' in df_test1.columns:\n",
        "    print(metrics.classification_report(df_test1['category'], df_test1['label_pred'], digits=2))\n"
      ]
    },
    {
      "cell_type": "code",
      "execution_count": null,
      "metadata": {
        "id": "B1PFExBHfkgL"
      },
      "outputs": [],
      "source": [
        "from sklearn.metrics import f1_score\n",
        "from sklearn.metrics import accuracy_score\n",
        "from sklearn.metrics import confusion_matrix\n",
        "import seaborn as sns\n",
        "import matplotlib.pyplot as plt"
      ]
    },
    {
      "cell_type": "code",
      "execution_count": null,
      "metadata": {
        "id": "EK86nc4V9h3B"
      },
      "outputs": [],
      "source": [
        "df_test1 = pd.read_csv('/content/drive/My Drive/codemix2021/kannada_offensive_test.csv',sep= \"\\t\",  usecols=['text','category'],encoding='utf-8')"
      ]
    },
    {
      "cell_type": "code",
      "execution_count": null,
      "metadata": {
        "id": "0fndK8RCfkmf"
      },
      "outputs": [],
      "source": [
        "import numpy\n",
        "x1=df_test1['text'].replace({'Not_offensive': '0', 'not-Kannada': '1', 'Offensive_Targeted_Insult_Individual': '2','Offensive_Targeted_Insult_Group': '3','Offensive_Untargetede':'4','Offensive_Targeted_Insult_Other':'5'}).to_numpy()\n",
        "x2=df_test1['category'].replace({'Not_offensive': '0', 'not-Kannada': '1', 'Offensive_Targeted_Insult_Individual': '2','Offensive_Targeted_Insult_Group': '3','Offensive_Untargetede':'4','Offensive_Targeted_Insult_Other':'5'}).to_numpy()\n",
        "#x3=df_train3['category'].to_numpy()"
      ]
    },
    {
      "cell_type": "code",
      "execution_count": null,
      "metadata": {
        "id": "aTVb2y4EfkeS"
      },
      "outputs": [],
      "source": [
        "x1=x1.reshape(-1,1)\n",
        "x2=x2.reshape(-1,1)\n",
        "#x3=x3.reshape(-1,1)"
      ]
    },
    {
      "cell_type": "code",
      "execution_count": null,
      "metadata": {
        "id": "wka237ElfcbY"
      },
      "outputs": [],
      "source": [
        "from sklearn.svm import SVC\n",
        "clf = SVC(random_state=0)\n",
        "\n",
        "clf.fit(x1, x2)\n",
        "plot_confusion_matrix(clf,x1, x2,values_format='d')\n",
        "plt.savefig('model3')\n",
        "plt.show()"
      ]
    },
    {
      "cell_type": "markdown",
      "metadata": {
        "id": "inSPuPGKXHwF"
      },
      "source": []
    }
  ],
  "metadata": {
    "accelerator": "GPU",
    "colab": {
      "machine_shape": "hm",
      "provenance": []
    },
    "kernelspec": {
      "display_name": "Python 3",
      "language": "python",
      "name": "python3"
    },
    "language_info": {
      "codemirror_mode": {
        "name": "ipython",
        "version": 3
      },
      "file_extension": ".py",
      "mimetype": "text/x-python",
      "name": "python",
      "nbconvert_exporter": "python",
      "pygments_lexer": "ipython3",
      "version": "3.7.6"
    },
    "widgets": {
      "application/vnd.jupyter.widget-state+json": {
        "01d932eb78b24604a4302e94c0f5ff98": {
          "model_module": "@jupyter-widgets/base",
          "model_module_version": "1.2.0",
          "model_name": "LayoutModel",
          "state": {
            "_model_module": "@jupyter-widgets/base",
            "_model_module_version": "1.2.0",
            "_model_name": "LayoutModel",
            "_view_count": null,
            "_view_module": "@jupyter-widgets/base",
            "_view_module_version": "1.2.0",
            "_view_name": "LayoutView",
            "align_content": null,
            "align_items": null,
            "align_self": null,
            "border": null,
            "bottom": null,
            "display": null,
            "flex": null,
            "flex_flow": null,
            "grid_area": null,
            "grid_auto_columns": null,
            "grid_auto_flow": null,
            "grid_auto_rows": null,
            "grid_column": null,
            "grid_gap": null,
            "grid_row": null,
            "grid_template_areas": null,
            "grid_template_columns": null,
            "grid_template_rows": null,
            "height": null,
            "justify_content": null,
            "justify_items": null,
            "left": null,
            "margin": null,
            "max_height": null,
            "max_width": null,
            "min_height": null,
            "min_width": null,
            "object_fit": null,
            "object_position": null,
            "order": null,
            "overflow": null,
            "overflow_x": null,
            "overflow_y": null,
            "padding": null,
            "right": null,
            "top": null,
            "visibility": null,
            "width": null
          }
        },
        "0361f4bd669a4870929be34a981a5629": {
          "model_module": "@jupyter-widgets/base",
          "model_module_version": "1.2.0",
          "model_name": "LayoutModel",
          "state": {
            "_model_module": "@jupyter-widgets/base",
            "_model_module_version": "1.2.0",
            "_model_name": "LayoutModel",
            "_view_count": null,
            "_view_module": "@jupyter-widgets/base",
            "_view_module_version": "1.2.0",
            "_view_name": "LayoutView",
            "align_content": null,
            "align_items": null,
            "align_self": null,
            "border": null,
            "bottom": null,
            "display": null,
            "flex": null,
            "flex_flow": null,
            "grid_area": null,
            "grid_auto_columns": null,
            "grid_auto_flow": null,
            "grid_auto_rows": null,
            "grid_column": null,
            "grid_gap": null,
            "grid_row": null,
            "grid_template_areas": null,
            "grid_template_columns": null,
            "grid_template_rows": null,
            "height": null,
            "justify_content": null,
            "justify_items": null,
            "left": null,
            "margin": null,
            "max_height": null,
            "max_width": null,
            "min_height": null,
            "min_width": null,
            "object_fit": null,
            "object_position": null,
            "order": null,
            "overflow": null,
            "overflow_x": null,
            "overflow_y": null,
            "padding": null,
            "right": null,
            "top": null,
            "visibility": null,
            "width": null
          }
        },
        "03fae3d888df4afb9e6ba8c6064ff88e": {
          "model_module": "@jupyter-widgets/base",
          "model_module_version": "1.2.0",
          "model_name": "LayoutModel",
          "state": {
            "_model_module": "@jupyter-widgets/base",
            "_model_module_version": "1.2.0",
            "_model_name": "LayoutModel",
            "_view_count": null,
            "_view_module": "@jupyter-widgets/base",
            "_view_module_version": "1.2.0",
            "_view_name": "LayoutView",
            "align_content": null,
            "align_items": null,
            "align_self": null,
            "border": null,
            "bottom": null,
            "display": null,
            "flex": null,
            "flex_flow": null,
            "grid_area": null,
            "grid_auto_columns": null,
            "grid_auto_flow": null,
            "grid_auto_rows": null,
            "grid_column": null,
            "grid_gap": null,
            "grid_row": null,
            "grid_template_areas": null,
            "grid_template_columns": null,
            "grid_template_rows": null,
            "height": null,
            "justify_content": null,
            "justify_items": null,
            "left": null,
            "margin": null,
            "max_height": null,
            "max_width": null,
            "min_height": null,
            "min_width": null,
            "object_fit": null,
            "object_position": null,
            "order": null,
            "overflow": null,
            "overflow_x": null,
            "overflow_y": null,
            "padding": null,
            "right": null,
            "top": null,
            "visibility": null,
            "width": null
          }
        },
        "0c4c3b634c864b0c8540ed9585dbe622": {
          "model_module": "@jupyter-widgets/controls",
          "model_module_version": "1.5.0",
          "model_name": "HBoxModel",
          "state": {
            "_dom_classes": [],
            "_model_module": "@jupyter-widgets/controls",
            "_model_module_version": "1.5.0",
            "_model_name": "HBoxModel",
            "_view_count": null,
            "_view_module": "@jupyter-widgets/controls",
            "_view_module_version": "1.5.0",
            "_view_name": "HBoxView",
            "box_style": "",
            "children": [
              "IPY_MODEL_16d5463ab0a344dfab3ea7f50f7e988e",
              "IPY_MODEL_85160ad5f4aa48b186ba310b52556795",
              "IPY_MODEL_7fb2f1cd0b7d42c5b235ec1b2d6567b4"
            ],
            "layout": "IPY_MODEL_240deb2db82248e5b9fb70042ce6b9c1"
          }
        },
        "16d5463ab0a344dfab3ea7f50f7e988e": {
          "model_module": "@jupyter-widgets/controls",
          "model_module_version": "1.5.0",
          "model_name": "HTMLModel",
          "state": {
            "_dom_classes": [],
            "_model_module": "@jupyter-widgets/controls",
            "_model_module_version": "1.5.0",
            "_model_name": "HTMLModel",
            "_view_count": null,
            "_view_module": "@jupyter-widgets/controls",
            "_view_module_version": "1.5.0",
            "_view_name": "HTMLView",
            "description": "",
            "description_tooltip": null,
            "layout": "IPY_MODEL_97bb972ce9d4448fbebd86cff3a04009",
            "placeholder": "​",
            "style": "IPY_MODEL_a8d5c28c5f564d0fb58dcaf2706bae52",
            "value": "Downloading (…)okenizer_config.json: 100%"
          }
        },
        "19d598f23da843e6bfbad8380bc76bae": {
          "model_module": "@jupyter-widgets/base",
          "model_module_version": "1.2.0",
          "model_name": "LayoutModel",
          "state": {
            "_model_module": "@jupyter-widgets/base",
            "_model_module_version": "1.2.0",
            "_model_name": "LayoutModel",
            "_view_count": null,
            "_view_module": "@jupyter-widgets/base",
            "_view_module_version": "1.2.0",
            "_view_name": "LayoutView",
            "align_content": null,
            "align_items": null,
            "align_self": null,
            "border": null,
            "bottom": null,
            "display": null,
            "flex": null,
            "flex_flow": null,
            "grid_area": null,
            "grid_auto_columns": null,
            "grid_auto_flow": null,
            "grid_auto_rows": null,
            "grid_column": null,
            "grid_gap": null,
            "grid_row": null,
            "grid_template_areas": null,
            "grid_template_columns": null,
            "grid_template_rows": null,
            "height": null,
            "justify_content": null,
            "justify_items": null,
            "left": null,
            "margin": null,
            "max_height": null,
            "max_width": null,
            "min_height": null,
            "min_width": null,
            "object_fit": null,
            "object_position": null,
            "order": null,
            "overflow": null,
            "overflow_x": null,
            "overflow_y": null,
            "padding": null,
            "right": null,
            "top": null,
            "visibility": null,
            "width": null
          }
        },
        "1c70a4a49c71471e846342d7028109ac": {
          "model_module": "@jupyter-widgets/controls",
          "model_module_version": "1.5.0",
          "model_name": "ProgressStyleModel",
          "state": {
            "_model_module": "@jupyter-widgets/controls",
            "_model_module_version": "1.5.0",
            "_model_name": "ProgressStyleModel",
            "_view_count": null,
            "_view_module": "@jupyter-widgets/base",
            "_view_module_version": "1.2.0",
            "_view_name": "StyleView",
            "bar_color": null,
            "description_width": ""
          }
        },
        "240deb2db82248e5b9fb70042ce6b9c1": {
          "model_module": "@jupyter-widgets/base",
          "model_module_version": "1.2.0",
          "model_name": "LayoutModel",
          "state": {
            "_model_module": "@jupyter-widgets/base",
            "_model_module_version": "1.2.0",
            "_model_name": "LayoutModel",
            "_view_count": null,
            "_view_module": "@jupyter-widgets/base",
            "_view_module_version": "1.2.0",
            "_view_name": "LayoutView",
            "align_content": null,
            "align_items": null,
            "align_self": null,
            "border": null,
            "bottom": null,
            "display": null,
            "flex": null,
            "flex_flow": null,
            "grid_area": null,
            "grid_auto_columns": null,
            "grid_auto_flow": null,
            "grid_auto_rows": null,
            "grid_column": null,
            "grid_gap": null,
            "grid_row": null,
            "grid_template_areas": null,
            "grid_template_columns": null,
            "grid_template_rows": null,
            "height": null,
            "justify_content": null,
            "justify_items": null,
            "left": null,
            "margin": null,
            "max_height": null,
            "max_width": null,
            "min_height": null,
            "min_width": null,
            "object_fit": null,
            "object_position": null,
            "order": null,
            "overflow": null,
            "overflow_x": null,
            "overflow_y": null,
            "padding": null,
            "right": null,
            "top": null,
            "visibility": null,
            "width": null
          }
        },
        "2a1f9bd30b4443619e8824e9114f4ad6": {
          "model_module": "@jupyter-widgets/controls",
          "model_module_version": "1.5.0",
          "model_name": "DescriptionStyleModel",
          "state": {
            "_model_module": "@jupyter-widgets/controls",
            "_model_module_version": "1.5.0",
            "_model_name": "DescriptionStyleModel",
            "_view_count": null,
            "_view_module": "@jupyter-widgets/base",
            "_view_module_version": "1.2.0",
            "_view_name": "StyleView",
            "description_width": ""
          }
        },
        "2a2c7bc41b8d4fb6b77f358a96dd5daf": {
          "model_module": "@jupyter-widgets/base",
          "model_module_version": "1.2.0",
          "model_name": "LayoutModel",
          "state": {
            "_model_module": "@jupyter-widgets/base",
            "_model_module_version": "1.2.0",
            "_model_name": "LayoutModel",
            "_view_count": null,
            "_view_module": "@jupyter-widgets/base",
            "_view_module_version": "1.2.0",
            "_view_name": "LayoutView",
            "align_content": null,
            "align_items": null,
            "align_self": null,
            "border": null,
            "bottom": null,
            "display": null,
            "flex": null,
            "flex_flow": null,
            "grid_area": null,
            "grid_auto_columns": null,
            "grid_auto_flow": null,
            "grid_auto_rows": null,
            "grid_column": null,
            "grid_gap": null,
            "grid_row": null,
            "grid_template_areas": null,
            "grid_template_columns": null,
            "grid_template_rows": null,
            "height": null,
            "justify_content": null,
            "justify_items": null,
            "left": null,
            "margin": null,
            "max_height": null,
            "max_width": null,
            "min_height": null,
            "min_width": null,
            "object_fit": null,
            "object_position": null,
            "order": null,
            "overflow": null,
            "overflow_x": null,
            "overflow_y": null,
            "padding": null,
            "right": null,
            "top": null,
            "visibility": null,
            "width": null
          }
        },
        "3333643cd04543529322b0ba2116ccf2": {
          "model_module": "@jupyter-widgets/base",
          "model_module_version": "1.2.0",
          "model_name": "LayoutModel",
          "state": {
            "_model_module": "@jupyter-widgets/base",
            "_model_module_version": "1.2.0",
            "_model_name": "LayoutModel",
            "_view_count": null,
            "_view_module": "@jupyter-widgets/base",
            "_view_module_version": "1.2.0",
            "_view_name": "LayoutView",
            "align_content": null,
            "align_items": null,
            "align_self": null,
            "border": null,
            "bottom": null,
            "display": null,
            "flex": null,
            "flex_flow": null,
            "grid_area": null,
            "grid_auto_columns": null,
            "grid_auto_flow": null,
            "grid_auto_rows": null,
            "grid_column": null,
            "grid_gap": null,
            "grid_row": null,
            "grid_template_areas": null,
            "grid_template_columns": null,
            "grid_template_rows": null,
            "height": null,
            "justify_content": null,
            "justify_items": null,
            "left": null,
            "margin": null,
            "max_height": null,
            "max_width": null,
            "min_height": null,
            "min_width": null,
            "object_fit": null,
            "object_position": null,
            "order": null,
            "overflow": null,
            "overflow_x": null,
            "overflow_y": null,
            "padding": null,
            "right": null,
            "top": null,
            "visibility": null,
            "width": null
          }
        },
        "33b7682d6bd84bef930ef792b0952a4f": {
          "model_module": "@jupyter-widgets/controls",
          "model_module_version": "1.5.0",
          "model_name": "HBoxModel",
          "state": {
            "_dom_classes": [],
            "_model_module": "@jupyter-widgets/controls",
            "_model_module_version": "1.5.0",
            "_model_name": "HBoxModel",
            "_view_count": null,
            "_view_module": "@jupyter-widgets/controls",
            "_view_module_version": "1.5.0",
            "_view_name": "HBoxView",
            "box_style": "",
            "children": [
              "IPY_MODEL_51f3e96574614fc8a1e437b83dd16610",
              "IPY_MODEL_3f35bf5c481840059d41c5cd98118fe0",
              "IPY_MODEL_9709b39d116c4f9a88ca5abcb4c6eb34"
            ],
            "layout": "IPY_MODEL_fe3ee54b83634758981b1ae030ef787a"
          }
        },
        "3bd2353c60e0454ca182859ae14e0172": {
          "model_module": "@jupyter-widgets/controls",
          "model_module_version": "1.5.0",
          "model_name": "DescriptionStyleModel",
          "state": {
            "_model_module": "@jupyter-widgets/controls",
            "_model_module_version": "1.5.0",
            "_model_name": "DescriptionStyleModel",
            "_view_count": null,
            "_view_module": "@jupyter-widgets/base",
            "_view_module_version": "1.2.0",
            "_view_name": "StyleView",
            "description_width": ""
          }
        },
        "3f35bf5c481840059d41c5cd98118fe0": {
          "model_module": "@jupyter-widgets/controls",
          "model_module_version": "1.5.0",
          "model_name": "FloatProgressModel",
          "state": {
            "_dom_classes": [],
            "_model_module": "@jupyter-widgets/controls",
            "_model_module_version": "1.5.0",
            "_model_name": "FloatProgressModel",
            "_view_count": null,
            "_view_module": "@jupyter-widgets/controls",
            "_view_module_version": "1.5.0",
            "_view_name": "ProgressView",
            "bar_style": "success",
            "description": "",
            "description_tooltip": null,
            "layout": "IPY_MODEL_593caebaa0b349feb35c24bc2ae74e4c",
            "max": 541795680,
            "min": 0,
            "orientation": "horizontal",
            "style": "IPY_MODEL_9e341cd03f4a4a4fa29f8b8669df9e2c",
            "value": 541795680
          }
        },
        "4943ed4a1b514d4cbfae14edb07aecaa": {
          "model_module": "@jupyter-widgets/controls",
          "model_module_version": "1.5.0",
          "model_name": "DescriptionStyleModel",
          "state": {
            "_model_module": "@jupyter-widgets/controls",
            "_model_module_version": "1.5.0",
            "_model_name": "DescriptionStyleModel",
            "_view_count": null,
            "_view_module": "@jupyter-widgets/base",
            "_view_module_version": "1.2.0",
            "_view_name": "StyleView",
            "description_width": ""
          }
        },
        "51f3e96574614fc8a1e437b83dd16610": {
          "model_module": "@jupyter-widgets/controls",
          "model_module_version": "1.5.0",
          "model_name": "HTMLModel",
          "state": {
            "_dom_classes": [],
            "_model_module": "@jupyter-widgets/controls",
            "_model_module_version": "1.5.0",
            "_model_name": "HTMLModel",
            "_view_count": null,
            "_view_module": "@jupyter-widgets/controls",
            "_view_module_version": "1.5.0",
            "_view_name": "HTMLView",
            "description": "",
            "description_tooltip": null,
            "layout": "IPY_MODEL_f8c23e1ed25245608647fbb66273cd91",
            "placeholder": "​",
            "style": "IPY_MODEL_d691665253664170b08cf3dcf1888847",
            "value": "Downloading model.safetensors: 100%"
          }
        },
        "53505642ed29422dac0f7c4fdd0f9094": {
          "model_module": "@jupyter-widgets/controls",
          "model_module_version": "1.5.0",
          "model_name": "HTMLModel",
          "state": {
            "_dom_classes": [],
            "_model_module": "@jupyter-widgets/controls",
            "_model_module_version": "1.5.0",
            "_model_name": "HTMLModel",
            "_view_count": null,
            "_view_module": "@jupyter-widgets/controls",
            "_view_module_version": "1.5.0",
            "_view_name": "HTMLView",
            "description": "",
            "description_tooltip": null,
            "layout": "IPY_MODEL_01d932eb78b24604a4302e94c0f5ff98",
            "placeholder": "​",
            "style": "IPY_MODEL_73c1fd86b08646268fb082f0b6efafec",
            "value": "Downloading (…)/main/tokenizer.json: 100%"
          }
        },
        "593caebaa0b349feb35c24bc2ae74e4c": {
          "model_module": "@jupyter-widgets/base",
          "model_module_version": "1.2.0",
          "model_name": "LayoutModel",
          "state": {
            "_model_module": "@jupyter-widgets/base",
            "_model_module_version": "1.2.0",
            "_model_name": "LayoutModel",
            "_view_count": null,
            "_view_module": "@jupyter-widgets/base",
            "_view_module_version": "1.2.0",
            "_view_name": "LayoutView",
            "align_content": null,
            "align_items": null,
            "align_self": null,
            "border": null,
            "bottom": null,
            "display": null,
            "flex": null,
            "flex_flow": null,
            "grid_area": null,
            "grid_auto_columns": null,
            "grid_auto_flow": null,
            "grid_auto_rows": null,
            "grid_column": null,
            "grid_gap": null,
            "grid_row": null,
            "grid_template_areas": null,
            "grid_template_columns": null,
            "grid_template_rows": null,
            "height": null,
            "justify_content": null,
            "justify_items": null,
            "left": null,
            "margin": null,
            "max_height": null,
            "max_width": null,
            "min_height": null,
            "min_width": null,
            "object_fit": null,
            "object_position": null,
            "order": null,
            "overflow": null,
            "overflow_x": null,
            "overflow_y": null,
            "padding": null,
            "right": null,
            "top": null,
            "visibility": null,
            "width": null
          }
        },
        "6672d52be3b84c0b971adae4605bb650": {
          "model_module": "@jupyter-widgets/controls",
          "model_module_version": "1.5.0",
          "model_name": "DescriptionStyleModel",
          "state": {
            "_model_module": "@jupyter-widgets/controls",
            "_model_module_version": "1.5.0",
            "_model_name": "DescriptionStyleModel",
            "_view_count": null,
            "_view_module": "@jupyter-widgets/base",
            "_view_module_version": "1.2.0",
            "_view_name": "StyleView",
            "description_width": ""
          }
        },
        "6737ff0e7be84bd880f31f9df2d28887": {
          "model_module": "@jupyter-widgets/controls",
          "model_module_version": "1.5.0",
          "model_name": "FloatProgressModel",
          "state": {
            "_dom_classes": [],
            "_model_module": "@jupyter-widgets/controls",
            "_model_module_version": "1.5.0",
            "_model_name": "FloatProgressModel",
            "_view_count": null,
            "_view_module": "@jupyter-widgets/controls",
            "_view_module_version": "1.5.0",
            "_view_name": "ProgressView",
            "bar_style": "success",
            "description": "",
            "description_tooltip": null,
            "layout": "IPY_MODEL_90ec05fbc9c04164b8bc4b5df0739abf",
            "max": 466,
            "min": 0,
            "orientation": "horizontal",
            "style": "IPY_MODEL_1c70a4a49c71471e846342d7028109ac",
            "value": 466
          }
        },
        "715d327cf4ca4d74ac28a75482927152": {
          "model_module": "@jupyter-widgets/base",
          "model_module_version": "1.2.0",
          "model_name": "LayoutModel",
          "state": {
            "_model_module": "@jupyter-widgets/base",
            "_model_module_version": "1.2.0",
            "_model_name": "LayoutModel",
            "_view_count": null,
            "_view_module": "@jupyter-widgets/base",
            "_view_module_version": "1.2.0",
            "_view_name": "LayoutView",
            "align_content": null,
            "align_items": null,
            "align_self": null,
            "border": null,
            "bottom": null,
            "display": null,
            "flex": null,
            "flex_flow": null,
            "grid_area": null,
            "grid_auto_columns": null,
            "grid_auto_flow": null,
            "grid_auto_rows": null,
            "grid_column": null,
            "grid_gap": null,
            "grid_row": null,
            "grid_template_areas": null,
            "grid_template_columns": null,
            "grid_template_rows": null,
            "height": null,
            "justify_content": null,
            "justify_items": null,
            "left": null,
            "margin": null,
            "max_height": null,
            "max_width": null,
            "min_height": null,
            "min_width": null,
            "object_fit": null,
            "object_position": null,
            "order": null,
            "overflow": null,
            "overflow_x": null,
            "overflow_y": null,
            "padding": null,
            "right": null,
            "top": null,
            "visibility": null,
            "width": null
          }
        },
        "72bb08089ec9409387456428b7458d66": {
          "model_module": "@jupyter-widgets/controls",
          "model_module_version": "1.5.0",
          "model_name": "FloatProgressModel",
          "state": {
            "_dom_classes": [],
            "_model_module": "@jupyter-widgets/controls",
            "_model_module_version": "1.5.0",
            "_model_name": "FloatProgressModel",
            "_view_count": null,
            "_view_module": "@jupyter-widgets/controls",
            "_view_module_version": "1.5.0",
            "_view_name": "ProgressView",
            "bar_style": "success",
            "description": "",
            "description_tooltip": null,
            "layout": "IPY_MODEL_19d598f23da843e6bfbad8380bc76bae",
            "max": 1961828,
            "min": 0,
            "orientation": "horizontal",
            "style": "IPY_MODEL_f945b50b2daf414e90996eee1e0c29fe",
            "value": 1961828
          }
        },
        "73c1fd86b08646268fb082f0b6efafec": {
          "model_module": "@jupyter-widgets/controls",
          "model_module_version": "1.5.0",
          "model_name": "DescriptionStyleModel",
          "state": {
            "_model_module": "@jupyter-widgets/controls",
            "_model_module_version": "1.5.0",
            "_model_name": "DescriptionStyleModel",
            "_view_count": null,
            "_view_module": "@jupyter-widgets/base",
            "_view_module_version": "1.2.0",
            "_view_name": "StyleView",
            "description_width": ""
          }
        },
        "7627cd9f73f84e2ebfa12e25ce6a516c": {
          "model_module": "@jupyter-widgets/controls",
          "model_module_version": "1.5.0",
          "model_name": "DescriptionStyleModel",
          "state": {
            "_model_module": "@jupyter-widgets/controls",
            "_model_module_version": "1.5.0",
            "_model_name": "DescriptionStyleModel",
            "_view_count": null,
            "_view_module": "@jupyter-widgets/base",
            "_view_module_version": "1.2.0",
            "_view_name": "StyleView",
            "description_width": ""
          }
        },
        "7ccc7148de8940e08d2963b46b7f2ff6": {
          "model_module": "@jupyter-widgets/controls",
          "model_module_version": "1.5.0",
          "model_name": "HTMLModel",
          "state": {
            "_dom_classes": [],
            "_model_module": "@jupyter-widgets/controls",
            "_model_module_version": "1.5.0",
            "_model_name": "HTMLModel",
            "_view_count": null,
            "_view_module": "@jupyter-widgets/controls",
            "_view_module_version": "1.5.0",
            "_view_name": "HTMLView",
            "description": "",
            "description_tooltip": null,
            "layout": "IPY_MODEL_ebfc22d5dc2f4149bda59ee050fbd4ee",
            "placeholder": "​",
            "style": "IPY_MODEL_7627cd9f73f84e2ebfa12e25ce6a516c",
            "value": " 1.96M/1.96M [00:00&lt;00:00, 43.8MB/s]"
          }
        },
        "7fb2f1cd0b7d42c5b235ec1b2d6567b4": {
          "model_module": "@jupyter-widgets/controls",
          "model_module_version": "1.5.0",
          "model_name": "HTMLModel",
          "state": {
            "_dom_classes": [],
            "_model_module": "@jupyter-widgets/controls",
            "_model_module_version": "1.5.0",
            "_model_name": "HTMLModel",
            "_view_count": null,
            "_view_module": "@jupyter-widgets/controls",
            "_view_module_version": "1.5.0",
            "_view_name": "HTMLView",
            "description": "",
            "description_tooltip": null,
            "layout": "IPY_MODEL_03fae3d888df4afb9e6ba8c6064ff88e",
            "placeholder": "​",
            "style": "IPY_MODEL_e4fb4eefa7ac453ca8809eebe2edb74a",
            "value": " 29.0/29.0 [00:00&lt;00:00, 1.84kB/s]"
          }
        },
        "85160ad5f4aa48b186ba310b52556795": {
          "model_module": "@jupyter-widgets/controls",
          "model_module_version": "1.5.0",
          "model_name": "FloatProgressModel",
          "state": {
            "_dom_classes": [],
            "_model_module": "@jupyter-widgets/controls",
            "_model_module_version": "1.5.0",
            "_model_name": "FloatProgressModel",
            "_view_count": null,
            "_view_module": "@jupyter-widgets/controls",
            "_view_module_version": "1.5.0",
            "_view_name": "ProgressView",
            "bar_style": "success",
            "description": "",
            "description_tooltip": null,
            "layout": "IPY_MODEL_715d327cf4ca4d74ac28a75482927152",
            "max": 29,
            "min": 0,
            "orientation": "horizontal",
            "style": "IPY_MODEL_a01dd404bc114eecadd81e21b10cef7d",
            "value": 29
          }
        },
        "90ec05fbc9c04164b8bc4b5df0739abf": {
          "model_module": "@jupyter-widgets/base",
          "model_module_version": "1.2.0",
          "model_name": "LayoutModel",
          "state": {
            "_model_module": "@jupyter-widgets/base",
            "_model_module_version": "1.2.0",
            "_model_name": "LayoutModel",
            "_view_count": null,
            "_view_module": "@jupyter-widgets/base",
            "_view_module_version": "1.2.0",
            "_view_name": "LayoutView",
            "align_content": null,
            "align_items": null,
            "align_self": null,
            "border": null,
            "bottom": null,
            "display": null,
            "flex": null,
            "flex_flow": null,
            "grid_area": null,
            "grid_auto_columns": null,
            "grid_auto_flow": null,
            "grid_auto_rows": null,
            "grid_column": null,
            "grid_gap": null,
            "grid_row": null,
            "grid_template_areas": null,
            "grid_template_columns": null,
            "grid_template_rows": null,
            "height": null,
            "justify_content": null,
            "justify_items": null,
            "left": null,
            "margin": null,
            "max_height": null,
            "max_width": null,
            "min_height": null,
            "min_width": null,
            "object_fit": null,
            "object_position": null,
            "order": null,
            "overflow": null,
            "overflow_x": null,
            "overflow_y": null,
            "padding": null,
            "right": null,
            "top": null,
            "visibility": null,
            "width": null
          }
        },
        "9709b39d116c4f9a88ca5abcb4c6eb34": {
          "model_module": "@jupyter-widgets/controls",
          "model_module_version": "1.5.0",
          "model_name": "HTMLModel",
          "state": {
            "_dom_classes": [],
            "_model_module": "@jupyter-widgets/controls",
            "_model_module_version": "1.5.0",
            "_model_name": "HTMLModel",
            "_view_count": null,
            "_view_module": "@jupyter-widgets/controls",
            "_view_module_version": "1.5.0",
            "_view_name": "HTMLView",
            "description": "",
            "description_tooltip": null,
            "layout": "IPY_MODEL_ab0841adf8bd4571ad9074e6bfb26a73",
            "placeholder": "​",
            "style": "IPY_MODEL_2a1f9bd30b4443619e8824e9114f4ad6",
            "value": " 542M/542M [00:02&lt;00:00, 191MB/s]"
          }
        },
        "97bb972ce9d4448fbebd86cff3a04009": {
          "model_module": "@jupyter-widgets/base",
          "model_module_version": "1.2.0",
          "model_name": "LayoutModel",
          "state": {
            "_model_module": "@jupyter-widgets/base",
            "_model_module_version": "1.2.0",
            "_model_name": "LayoutModel",
            "_view_count": null,
            "_view_module": "@jupyter-widgets/base",
            "_view_module_version": "1.2.0",
            "_view_name": "LayoutView",
            "align_content": null,
            "align_items": null,
            "align_self": null,
            "border": null,
            "bottom": null,
            "display": null,
            "flex": null,
            "flex_flow": null,
            "grid_area": null,
            "grid_auto_columns": null,
            "grid_auto_flow": null,
            "grid_auto_rows": null,
            "grid_column": null,
            "grid_gap": null,
            "grid_row": null,
            "grid_template_areas": null,
            "grid_template_columns": null,
            "grid_template_rows": null,
            "height": null,
            "justify_content": null,
            "justify_items": null,
            "left": null,
            "margin": null,
            "max_height": null,
            "max_width": null,
            "min_height": null,
            "min_width": null,
            "object_fit": null,
            "object_position": null,
            "order": null,
            "overflow": null,
            "overflow_x": null,
            "overflow_y": null,
            "padding": null,
            "right": null,
            "top": null,
            "visibility": null,
            "width": null
          }
        },
        "9e341cd03f4a4a4fa29f8b8669df9e2c": {
          "model_module": "@jupyter-widgets/controls",
          "model_module_version": "1.5.0",
          "model_name": "ProgressStyleModel",
          "state": {
            "_model_module": "@jupyter-widgets/controls",
            "_model_module_version": "1.5.0",
            "_model_name": "ProgressStyleModel",
            "_view_count": null,
            "_view_module": "@jupyter-widgets/base",
            "_view_module_version": "1.2.0",
            "_view_name": "StyleView",
            "bar_color": null,
            "description_width": ""
          }
        },
        "9e3e3d1502ac4100b07e307b29f2ea92": {
          "model_module": "@jupyter-widgets/controls",
          "model_module_version": "1.5.0",
          "model_name": "DescriptionStyleModel",
          "state": {
            "_model_module": "@jupyter-widgets/controls",
            "_model_module_version": "1.5.0",
            "_model_name": "DescriptionStyleModel",
            "_view_count": null,
            "_view_module": "@jupyter-widgets/base",
            "_view_module_version": "1.2.0",
            "_view_name": "StyleView",
            "description_width": ""
          }
        },
        "a01dd404bc114eecadd81e21b10cef7d": {
          "model_module": "@jupyter-widgets/controls",
          "model_module_version": "1.5.0",
          "model_name": "ProgressStyleModel",
          "state": {
            "_model_module": "@jupyter-widgets/controls",
            "_model_module_version": "1.5.0",
            "_model_name": "ProgressStyleModel",
            "_view_count": null,
            "_view_module": "@jupyter-widgets/base",
            "_view_module_version": "1.2.0",
            "_view_name": "StyleView",
            "bar_color": null,
            "description_width": ""
          }
        },
        "a8d5c28c5f564d0fb58dcaf2706bae52": {
          "model_module": "@jupyter-widgets/controls",
          "model_module_version": "1.5.0",
          "model_name": "DescriptionStyleModel",
          "state": {
            "_model_module": "@jupyter-widgets/controls",
            "_model_module_version": "1.5.0",
            "_model_name": "DescriptionStyleModel",
            "_view_count": null,
            "_view_module": "@jupyter-widgets/base",
            "_view_module_version": "1.2.0",
            "_view_name": "StyleView",
            "description_width": ""
          }
        },
        "ab0841adf8bd4571ad9074e6bfb26a73": {
          "model_module": "@jupyter-widgets/base",
          "model_module_version": "1.2.0",
          "model_name": "LayoutModel",
          "state": {
            "_model_module": "@jupyter-widgets/base",
            "_model_module_version": "1.2.0",
            "_model_name": "LayoutModel",
            "_view_count": null,
            "_view_module": "@jupyter-widgets/base",
            "_view_module_version": "1.2.0",
            "_view_name": "LayoutView",
            "align_content": null,
            "align_items": null,
            "align_self": null,
            "border": null,
            "bottom": null,
            "display": null,
            "flex": null,
            "flex_flow": null,
            "grid_area": null,
            "grid_auto_columns": null,
            "grid_auto_flow": null,
            "grid_auto_rows": null,
            "grid_column": null,
            "grid_gap": null,
            "grid_row": null,
            "grid_template_areas": null,
            "grid_template_columns": null,
            "grid_template_rows": null,
            "height": null,
            "justify_content": null,
            "justify_items": null,
            "left": null,
            "margin": null,
            "max_height": null,
            "max_width": null,
            "min_height": null,
            "min_width": null,
            "object_fit": null,
            "object_position": null,
            "order": null,
            "overflow": null,
            "overflow_x": null,
            "overflow_y": null,
            "padding": null,
            "right": null,
            "top": null,
            "visibility": null,
            "width": null
          }
        },
        "b842e0648db14cd58ea06062d715b3e2": {
          "model_module": "@jupyter-widgets/controls",
          "model_module_version": "1.5.0",
          "model_name": "HTMLModel",
          "state": {
            "_dom_classes": [],
            "_model_module": "@jupyter-widgets/controls",
            "_model_module_version": "1.5.0",
            "_model_name": "HTMLModel",
            "_view_count": null,
            "_view_module": "@jupyter-widgets/controls",
            "_view_module_version": "1.5.0",
            "_view_name": "HTMLView",
            "description": "",
            "description_tooltip": null,
            "layout": "IPY_MODEL_3333643cd04543529322b0ba2116ccf2",
            "placeholder": "​",
            "style": "IPY_MODEL_3bd2353c60e0454ca182859ae14e0172",
            "value": " 996k/996k [00:00&lt;00:00, 8.71MB/s]"
          }
        },
        "bf1744f610b54b8297cd6d9f0c43579b": {
          "model_module": "@jupyter-widgets/base",
          "model_module_version": "1.2.0",
          "model_name": "LayoutModel",
          "state": {
            "_model_module": "@jupyter-widgets/base",
            "_model_module_version": "1.2.0",
            "_model_name": "LayoutModel",
            "_view_count": null,
            "_view_module": "@jupyter-widgets/base",
            "_view_module_version": "1.2.0",
            "_view_name": "LayoutView",
            "align_content": null,
            "align_items": null,
            "align_self": null,
            "border": null,
            "bottom": null,
            "display": null,
            "flex": null,
            "flex_flow": null,
            "grid_area": null,
            "grid_auto_columns": null,
            "grid_auto_flow": null,
            "grid_auto_rows": null,
            "grid_column": null,
            "grid_gap": null,
            "grid_row": null,
            "grid_template_areas": null,
            "grid_template_columns": null,
            "grid_template_rows": null,
            "height": null,
            "justify_content": null,
            "justify_items": null,
            "left": null,
            "margin": null,
            "max_height": null,
            "max_width": null,
            "min_height": null,
            "min_width": null,
            "object_fit": null,
            "object_position": null,
            "order": null,
            "overflow": null,
            "overflow_x": null,
            "overflow_y": null,
            "padding": null,
            "right": null,
            "top": null,
            "visibility": null,
            "width": null
          }
        },
        "c16204fe88e8487d9a45d721bba3350b": {
          "model_module": "@jupyter-widgets/controls",
          "model_module_version": "1.5.0",
          "model_name": "HBoxModel",
          "state": {
            "_dom_classes": [],
            "_model_module": "@jupyter-widgets/controls",
            "_model_module_version": "1.5.0",
            "_model_name": "HBoxModel",
            "_view_count": null,
            "_view_module": "@jupyter-widgets/controls",
            "_view_module_version": "1.5.0",
            "_view_name": "HBoxView",
            "box_style": "",
            "children": [
              "IPY_MODEL_ee68ca2a62994bca959fb048a409d28b",
              "IPY_MODEL_ccb3f7e4ff6f4a768e7f9c6c80393cea",
              "IPY_MODEL_b842e0648db14cd58ea06062d715b3e2"
            ],
            "layout": "IPY_MODEL_c56fdab218a84a958f55735e35d8b758"
          }
        },
        "c4d6ab0cb4f34d81bf3f809250e8d5c8": {
          "model_module": "@jupyter-widgets/base",
          "model_module_version": "1.2.0",
          "model_name": "LayoutModel",
          "state": {
            "_model_module": "@jupyter-widgets/base",
            "_model_module_version": "1.2.0",
            "_model_name": "LayoutModel",
            "_view_count": null,
            "_view_module": "@jupyter-widgets/base",
            "_view_module_version": "1.2.0",
            "_view_name": "LayoutView",
            "align_content": null,
            "align_items": null,
            "align_self": null,
            "border": null,
            "bottom": null,
            "display": null,
            "flex": null,
            "flex_flow": null,
            "grid_area": null,
            "grid_auto_columns": null,
            "grid_auto_flow": null,
            "grid_auto_rows": null,
            "grid_column": null,
            "grid_gap": null,
            "grid_row": null,
            "grid_template_areas": null,
            "grid_template_columns": null,
            "grid_template_rows": null,
            "height": null,
            "justify_content": null,
            "justify_items": null,
            "left": null,
            "margin": null,
            "max_height": null,
            "max_width": null,
            "min_height": null,
            "min_width": null,
            "object_fit": null,
            "object_position": null,
            "order": null,
            "overflow": null,
            "overflow_x": null,
            "overflow_y": null,
            "padding": null,
            "right": null,
            "top": null,
            "visibility": null,
            "width": null
          }
        },
        "c56fdab218a84a958f55735e35d8b758": {
          "model_module": "@jupyter-widgets/base",
          "model_module_version": "1.2.0",
          "model_name": "LayoutModel",
          "state": {
            "_model_module": "@jupyter-widgets/base",
            "_model_module_version": "1.2.0",
            "_model_name": "LayoutModel",
            "_view_count": null,
            "_view_module": "@jupyter-widgets/base",
            "_view_module_version": "1.2.0",
            "_view_name": "LayoutView",
            "align_content": null,
            "align_items": null,
            "align_self": null,
            "border": null,
            "bottom": null,
            "display": null,
            "flex": null,
            "flex_flow": null,
            "grid_area": null,
            "grid_auto_columns": null,
            "grid_auto_flow": null,
            "grid_auto_rows": null,
            "grid_column": null,
            "grid_gap": null,
            "grid_row": null,
            "grid_template_areas": null,
            "grid_template_columns": null,
            "grid_template_rows": null,
            "height": null,
            "justify_content": null,
            "justify_items": null,
            "left": null,
            "margin": null,
            "max_height": null,
            "max_width": null,
            "min_height": null,
            "min_width": null,
            "object_fit": null,
            "object_position": null,
            "order": null,
            "overflow": null,
            "overflow_x": null,
            "overflow_y": null,
            "padding": null,
            "right": null,
            "top": null,
            "visibility": null,
            "width": null
          }
        },
        "ccb3f7e4ff6f4a768e7f9c6c80393cea": {
          "model_module": "@jupyter-widgets/controls",
          "model_module_version": "1.5.0",
          "model_name": "FloatProgressModel",
          "state": {
            "_dom_classes": [],
            "_model_module": "@jupyter-widgets/controls",
            "_model_module_version": "1.5.0",
            "_model_name": "FloatProgressModel",
            "_view_count": null,
            "_view_module": "@jupyter-widgets/controls",
            "_view_module_version": "1.5.0",
            "_view_name": "ProgressView",
            "bar_style": "success",
            "description": "",
            "description_tooltip": null,
            "layout": "IPY_MODEL_2a2c7bc41b8d4fb6b77f358a96dd5daf",
            "max": 995526,
            "min": 0,
            "orientation": "horizontal",
            "style": "IPY_MODEL_fe6c24d8e78e47c5979f5eddd2912906",
            "value": 995526
          }
        },
        "d4f0252d729a47afb70878800ee47061": {
          "model_module": "@jupyter-widgets/base",
          "model_module_version": "1.2.0",
          "model_name": "LayoutModel",
          "state": {
            "_model_module": "@jupyter-widgets/base",
            "_model_module_version": "1.2.0",
            "_model_name": "LayoutModel",
            "_view_count": null,
            "_view_module": "@jupyter-widgets/base",
            "_view_module_version": "1.2.0",
            "_view_name": "LayoutView",
            "align_content": null,
            "align_items": null,
            "align_self": null,
            "border": null,
            "bottom": null,
            "display": null,
            "flex": null,
            "flex_flow": null,
            "grid_area": null,
            "grid_auto_columns": null,
            "grid_auto_flow": null,
            "grid_auto_rows": null,
            "grid_column": null,
            "grid_gap": null,
            "grid_row": null,
            "grid_template_areas": null,
            "grid_template_columns": null,
            "grid_template_rows": null,
            "height": null,
            "justify_content": null,
            "justify_items": null,
            "left": null,
            "margin": null,
            "max_height": null,
            "max_width": null,
            "min_height": null,
            "min_width": null,
            "object_fit": null,
            "object_position": null,
            "order": null,
            "overflow": null,
            "overflow_x": null,
            "overflow_y": null,
            "padding": null,
            "right": null,
            "top": null,
            "visibility": null,
            "width": null
          }
        },
        "d691665253664170b08cf3dcf1888847": {
          "model_module": "@jupyter-widgets/controls",
          "model_module_version": "1.5.0",
          "model_name": "DescriptionStyleModel",
          "state": {
            "_model_module": "@jupyter-widgets/controls",
            "_model_module_version": "1.5.0",
            "_model_name": "DescriptionStyleModel",
            "_view_count": null,
            "_view_module": "@jupyter-widgets/base",
            "_view_module_version": "1.2.0",
            "_view_name": "StyleView",
            "description_width": ""
          }
        },
        "df4c18f861f54402b65ec23548d4b8a0": {
          "model_module": "@jupyter-widgets/controls",
          "model_module_version": "1.5.0",
          "model_name": "HTMLModel",
          "state": {
            "_dom_classes": [],
            "_model_module": "@jupyter-widgets/controls",
            "_model_module_version": "1.5.0",
            "_model_name": "HTMLModel",
            "_view_count": null,
            "_view_module": "@jupyter-widgets/controls",
            "_view_module_version": "1.5.0",
            "_view_name": "HTMLView",
            "description": "",
            "description_tooltip": null,
            "layout": "IPY_MODEL_bf1744f610b54b8297cd6d9f0c43579b",
            "placeholder": "​",
            "style": "IPY_MODEL_6672d52be3b84c0b971adae4605bb650",
            "value": "Downloading (…)lve/main/config.json: 100%"
          }
        },
        "e4fb4eefa7ac453ca8809eebe2edb74a": {
          "model_module": "@jupyter-widgets/controls",
          "model_module_version": "1.5.0",
          "model_name": "DescriptionStyleModel",
          "state": {
            "_model_module": "@jupyter-widgets/controls",
            "_model_module_version": "1.5.0",
            "_model_name": "DescriptionStyleModel",
            "_view_count": null,
            "_view_module": "@jupyter-widgets/base",
            "_view_module_version": "1.2.0",
            "_view_name": "StyleView",
            "description_width": ""
          }
        },
        "ebfc22d5dc2f4149bda59ee050fbd4ee": {
          "model_module": "@jupyter-widgets/base",
          "model_module_version": "1.2.0",
          "model_name": "LayoutModel",
          "state": {
            "_model_module": "@jupyter-widgets/base",
            "_model_module_version": "1.2.0",
            "_model_name": "LayoutModel",
            "_view_count": null,
            "_view_module": "@jupyter-widgets/base",
            "_view_module_version": "1.2.0",
            "_view_name": "LayoutView",
            "align_content": null,
            "align_items": null,
            "align_self": null,
            "border": null,
            "bottom": null,
            "display": null,
            "flex": null,
            "flex_flow": null,
            "grid_area": null,
            "grid_auto_columns": null,
            "grid_auto_flow": null,
            "grid_auto_rows": null,
            "grid_column": null,
            "grid_gap": null,
            "grid_row": null,
            "grid_template_areas": null,
            "grid_template_columns": null,
            "grid_template_rows": null,
            "height": null,
            "justify_content": null,
            "justify_items": null,
            "left": null,
            "margin": null,
            "max_height": null,
            "max_width": null,
            "min_height": null,
            "min_width": null,
            "object_fit": null,
            "object_position": null,
            "order": null,
            "overflow": null,
            "overflow_x": null,
            "overflow_y": null,
            "padding": null,
            "right": null,
            "top": null,
            "visibility": null,
            "width": null
          }
        },
        "ee68ca2a62994bca959fb048a409d28b": {
          "model_module": "@jupyter-widgets/controls",
          "model_module_version": "1.5.0",
          "model_name": "HTMLModel",
          "state": {
            "_dom_classes": [],
            "_model_module": "@jupyter-widgets/controls",
            "_model_module_version": "1.5.0",
            "_model_name": "HTMLModel",
            "_view_count": null,
            "_view_module": "@jupyter-widgets/controls",
            "_view_module_version": "1.5.0",
            "_view_name": "HTMLView",
            "description": "",
            "description_tooltip": null,
            "layout": "IPY_MODEL_0361f4bd669a4870929be34a981a5629",
            "placeholder": "​",
            "style": "IPY_MODEL_4943ed4a1b514d4cbfae14edb07aecaa",
            "value": "Downloading (…)solve/main/vocab.txt: 100%"
          }
        },
        "f134995b029e49918f0e777a442e7eb5": {
          "model_module": "@jupyter-widgets/base",
          "model_module_version": "1.2.0",
          "model_name": "LayoutModel",
          "state": {
            "_model_module": "@jupyter-widgets/base",
            "_model_module_version": "1.2.0",
            "_model_name": "LayoutModel",
            "_view_count": null,
            "_view_module": "@jupyter-widgets/base",
            "_view_module_version": "1.2.0",
            "_view_name": "LayoutView",
            "align_content": null,
            "align_items": null,
            "align_self": null,
            "border": null,
            "bottom": null,
            "display": null,
            "flex": null,
            "flex_flow": null,
            "grid_area": null,
            "grid_auto_columns": null,
            "grid_auto_flow": null,
            "grid_auto_rows": null,
            "grid_column": null,
            "grid_gap": null,
            "grid_row": null,
            "grid_template_areas": null,
            "grid_template_columns": null,
            "grid_template_rows": null,
            "height": null,
            "justify_content": null,
            "justify_items": null,
            "left": null,
            "margin": null,
            "max_height": null,
            "max_width": null,
            "min_height": null,
            "min_width": null,
            "object_fit": null,
            "object_position": null,
            "order": null,
            "overflow": null,
            "overflow_x": null,
            "overflow_y": null,
            "padding": null,
            "right": null,
            "top": null,
            "visibility": null,
            "width": null
          }
        },
        "f221affa4e6846a6a2e43e06fc8b4318": {
          "model_module": "@jupyter-widgets/controls",
          "model_module_version": "1.5.0",
          "model_name": "HBoxModel",
          "state": {
            "_dom_classes": [],
            "_model_module": "@jupyter-widgets/controls",
            "_model_module_version": "1.5.0",
            "_model_name": "HBoxModel",
            "_view_count": null,
            "_view_module": "@jupyter-widgets/controls",
            "_view_module_version": "1.5.0",
            "_view_name": "HBoxView",
            "box_style": "",
            "children": [
              "IPY_MODEL_53505642ed29422dac0f7c4fdd0f9094",
              "IPY_MODEL_72bb08089ec9409387456428b7458d66",
              "IPY_MODEL_7ccc7148de8940e08d2963b46b7f2ff6"
            ],
            "layout": "IPY_MODEL_f134995b029e49918f0e777a442e7eb5"
          }
        },
        "f446c361b530427eaac5ad805631dea0": {
          "model_module": "@jupyter-widgets/controls",
          "model_module_version": "1.5.0",
          "model_name": "HBoxModel",
          "state": {
            "_dom_classes": [],
            "_model_module": "@jupyter-widgets/controls",
            "_model_module_version": "1.5.0",
            "_model_name": "HBoxModel",
            "_view_count": null,
            "_view_module": "@jupyter-widgets/controls",
            "_view_module_version": "1.5.0",
            "_view_name": "HBoxView",
            "box_style": "",
            "children": [
              "IPY_MODEL_df4c18f861f54402b65ec23548d4b8a0",
              "IPY_MODEL_6737ff0e7be84bd880f31f9df2d28887",
              "IPY_MODEL_fcea6c4b7e9b4c148381483d2e8cf873"
            ],
            "layout": "IPY_MODEL_c4d6ab0cb4f34d81bf3f809250e8d5c8"
          }
        },
        "f8c23e1ed25245608647fbb66273cd91": {
          "model_module": "@jupyter-widgets/base",
          "model_module_version": "1.2.0",
          "model_name": "LayoutModel",
          "state": {
            "_model_module": "@jupyter-widgets/base",
            "_model_module_version": "1.2.0",
            "_model_name": "LayoutModel",
            "_view_count": null,
            "_view_module": "@jupyter-widgets/base",
            "_view_module_version": "1.2.0",
            "_view_name": "LayoutView",
            "align_content": null,
            "align_items": null,
            "align_self": null,
            "border": null,
            "bottom": null,
            "display": null,
            "flex": null,
            "flex_flow": null,
            "grid_area": null,
            "grid_auto_columns": null,
            "grid_auto_flow": null,
            "grid_auto_rows": null,
            "grid_column": null,
            "grid_gap": null,
            "grid_row": null,
            "grid_template_areas": null,
            "grid_template_columns": null,
            "grid_template_rows": null,
            "height": null,
            "justify_content": null,
            "justify_items": null,
            "left": null,
            "margin": null,
            "max_height": null,
            "max_width": null,
            "min_height": null,
            "min_width": null,
            "object_fit": null,
            "object_position": null,
            "order": null,
            "overflow": null,
            "overflow_x": null,
            "overflow_y": null,
            "padding": null,
            "right": null,
            "top": null,
            "visibility": null,
            "width": null
          }
        },
        "f945b50b2daf414e90996eee1e0c29fe": {
          "model_module": "@jupyter-widgets/controls",
          "model_module_version": "1.5.0",
          "model_name": "ProgressStyleModel",
          "state": {
            "_model_module": "@jupyter-widgets/controls",
            "_model_module_version": "1.5.0",
            "_model_name": "ProgressStyleModel",
            "_view_count": null,
            "_view_module": "@jupyter-widgets/base",
            "_view_module_version": "1.2.0",
            "_view_name": "StyleView",
            "bar_color": null,
            "description_width": ""
          }
        },
        "fcea6c4b7e9b4c148381483d2e8cf873": {
          "model_module": "@jupyter-widgets/controls",
          "model_module_version": "1.5.0",
          "model_name": "HTMLModel",
          "state": {
            "_dom_classes": [],
            "_model_module": "@jupyter-widgets/controls",
            "_model_module_version": "1.5.0",
            "_model_name": "HTMLModel",
            "_view_count": null,
            "_view_module": "@jupyter-widgets/controls",
            "_view_module_version": "1.5.0",
            "_view_name": "HTMLView",
            "description": "",
            "description_tooltip": null,
            "layout": "IPY_MODEL_d4f0252d729a47afb70878800ee47061",
            "placeholder": "​",
            "style": "IPY_MODEL_9e3e3d1502ac4100b07e307b29f2ea92",
            "value": " 466/466 [00:00&lt;00:00, 33.5kB/s]"
          }
        },
        "fe3ee54b83634758981b1ae030ef787a": {
          "model_module": "@jupyter-widgets/base",
          "model_module_version": "1.2.0",
          "model_name": "LayoutModel",
          "state": {
            "_model_module": "@jupyter-widgets/base",
            "_model_module_version": "1.2.0",
            "_model_name": "LayoutModel",
            "_view_count": null,
            "_view_module": "@jupyter-widgets/base",
            "_view_module_version": "1.2.0",
            "_view_name": "LayoutView",
            "align_content": null,
            "align_items": null,
            "align_self": null,
            "border": null,
            "bottom": null,
            "display": null,
            "flex": null,
            "flex_flow": null,
            "grid_area": null,
            "grid_auto_columns": null,
            "grid_auto_flow": null,
            "grid_auto_rows": null,
            "grid_column": null,
            "grid_gap": null,
            "grid_row": null,
            "grid_template_areas": null,
            "grid_template_columns": null,
            "grid_template_rows": null,
            "height": null,
            "justify_content": null,
            "justify_items": null,
            "left": null,
            "margin": null,
            "max_height": null,
            "max_width": null,
            "min_height": null,
            "min_width": null,
            "object_fit": null,
            "object_position": null,
            "order": null,
            "overflow": null,
            "overflow_x": null,
            "overflow_y": null,
            "padding": null,
            "right": null,
            "top": null,
            "visibility": null,
            "width": null
          }
        },
        "fe6c24d8e78e47c5979f5eddd2912906": {
          "model_module": "@jupyter-widgets/controls",
          "model_module_version": "1.5.0",
          "model_name": "ProgressStyleModel",
          "state": {
            "_model_module": "@jupyter-widgets/controls",
            "_model_module_version": "1.5.0",
            "_model_name": "ProgressStyleModel",
            "_view_count": null,
            "_view_module": "@jupyter-widgets/base",
            "_view_module_version": "1.2.0",
            "_view_name": "StyleView",
            "bar_color": null,
            "description_width": ""
          }
        }
      }
    }
  },
  "nbformat": 4,
  "nbformat_minor": 0
}